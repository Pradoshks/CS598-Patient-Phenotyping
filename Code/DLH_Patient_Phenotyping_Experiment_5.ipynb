{
  "cells": [
    {
      "cell_type": "markdown",
      "metadata": {
        "id": "view-in-github",
        "colab_type": "text"
      },
      "source": [
        "<a href=\"https://colab.research.google.com/github/qinalan10/cs598-patient-phenotyping/blob/master/Code/DLH_Patient_Phenotyping_Experiment_5.ipynb\" target=\"_parent\"><img src=\"https://colab.research.google.com/assets/colab-badge.svg\" alt=\"Open In Colab\"/></a>"
      ]
    },
    {
      "cell_type": "markdown",
      "source": [
        "# Training a CNN Model for Patient Phenotyping Based on Patient Notes\n",
        "\n",
        "*   Read the file containing the patient notes and annoations\n",
        "*   Clean the text data\n",
        "*   Create Train, Validation and Test Data Split\n",
        "*   Train a Word2Vec Model\n",
        "*   Create Word Embeddings using the Word2Vec Model\n",
        "*   Create CNN Classfier\n",
        "*   Train & Validate the Classifier\n",
        "*   Test Model Performance\n",
        "\n",
        "\n",
        "\n",
        "\n",
        "\n",
        "\n",
        "\n",
        "\n",
        "\n"
      ],
      "metadata": {
        "id": "LMdndDXF8WaH"
      }
    },
    {
      "cell_type": "code",
      "execution_count": 82,
      "metadata": {
        "colab": {
          "base_uri": "https://localhost:8080/"
        },
        "id": "OcVwbjZ1SlkC",
        "outputId": "e5e86f85-f1ae-4325-ab28-fbba3d9445e2"
      },
      "outputs": [
        {
          "output_type": "stream",
          "name": "stdout",
          "text": [
            "Drive already mounted at /content/drive; to attempt to forcibly remount, call drive.mount(\"/content/drive\", force_remount=True).\n"
          ]
        }
      ],
      "source": [
        "# importing libaries\n",
        "from google.colab import files\n",
        "from google.colab import drive\n",
        "import pandas as pd \n",
        "import torch\n",
        "from torchsummary import summary\n",
        "from torch.utils.data import Dataset, DataLoader\n",
        "from torch.utils.data import Dataset\n",
        "from torchtext.data.utils import get_tokenizer\n",
        "from torchtext.vocab import build_vocab_from_iterator\n",
        "import re \n",
        "import numpy as np \n",
        "from sklearn.metrics import classification_report\n",
        "from sklearn.metrics import accuracy_score, classification_report, confusion_matrix\n",
        "from sklearn.metrics import roc_auc_score   \n",
        "from nltk.corpus import stopwords\n",
        "from tqdm import tqdm\n",
        "from sklearn.metrics import roc_curve, auc, RocCurveDisplay\n",
        "drive.mount('/content/drive')"
      ]
    },
    {
      "cell_type": "markdown",
      "source": [
        "# Use GPU if Available"
      ],
      "metadata": {
        "id": "OsYlMENK_W0A"
      }
    },
    {
      "cell_type": "code",
      "execution_count": 83,
      "metadata": {
        "colab": {
          "base_uri": "https://localhost:8080/"
        },
        "id": "rDVy_8aZt5fA",
        "outputId": "24cff16b-9f04-456c-eec2-520f4be375ee"
      },
      "outputs": [
        {
          "output_type": "stream",
          "name": "stdout",
          "text": [
            "There are 1 GPU(s) available.\n",
            "Device name: Tesla T4\n"
          ]
        }
      ],
      "source": [
        "if torch.cuda.is_available():       \n",
        "    device = torch.device(\"cuda\")\n",
        "    print(f'There are {torch.cuda.device_count()} GPU(s) available.')\n",
        "    print('Device name:', torch.cuda.get_device_name(0))\n",
        "\n",
        "else:\n",
        "    print('No GPU available, using the CPU instead.')\n",
        "    device = torch.device(\"cpu\")"
      ]
    },
    {
      "cell_type": "markdown",
      "source": [
        "Setting Paths & Read the Final File"
      ],
      "metadata": {
        "id": "M6pll-np_auZ"
      }
    },
    {
      "cell_type": "code",
      "execution_count": 84,
      "metadata": {
        "id": "5LFSFksFq9uh"
      },
      "outputs": [],
      "source": [
        "path = '/content/drive/MyDrive/Data/NOTEEVENTS.csv'\n",
        "annotations_path = \"/content/drive/MyDrive/Data/annotations.csv\"\n",
        "final_file_path = \"/content/drive/MyDrive/Data/final_file.csv\""
      ]
    },
    {
      "cell_type": "code",
      "execution_count": 85,
      "metadata": {
        "id": "cepCi-AEai1d"
      },
      "outputs": [],
      "source": [
        "dataframe = pd.read_csv(final_file_path)\n",
        "dataframe.drop('Unnamed: 0', axis=1, inplace=True)"
      ]
    },
    {
      "cell_type": "code",
      "execution_count": 86,
      "metadata": {
        "id": "JmFUPvB7sI8F"
      },
      "outputs": [],
      "source": [
        "class HealthcareTextDataset(Dataset):\n",
        "    def __init__(self, dataframe, transform=None):\n",
        "        self.data = dataframe\n",
        "        self.text_data = self.data['TEXT']\n",
        "        self.labels = torch.tensor(np.array(self.data.iloc[:, :-1]), dtype = torch.float, device=device)  # assuming the labels are in the first 14 columns\n",
        "        self.transform = transform\n",
        "\n",
        "    def __len__(self):\n",
        "        return len(self.data)\n",
        "\n",
        "    def __getitem__(self, idx):\n",
        "        text = self.text_data.iloc[idx]\n",
        "        labels = self.labels[idx]\n",
        "        sample = {'text': text, 'labels': labels}\n",
        "\n",
        "        if self.transform:\n",
        "            sample = self.transform(sample)\n",
        "\n",
        "        return sample"
      ]
    },
    {
      "cell_type": "code",
      "execution_count": 87,
      "metadata": {
        "colab": {
          "base_uri": "https://localhost:8080/"
        },
        "id": "j6mSpEsjxhcf",
        "outputId": "3810c762-92ef-4739-c07e-a3d07f7e0aad"
      },
      "outputs": [
        {
          "output_type": "stream",
          "name": "stdout",
          "text": [
            "['i', 'me', 'my', 'myself', 'we', 'our', 'ours', 'ourselves', 'you', \"you're\", \"you've\", \"you'll\", \"you'd\", 'your', 'yours', 'yourself', 'yourselves', 'he', 'him', 'his', 'himself', 'she', \"she's\", 'her', 'hers', 'herself', 'it', \"it's\", 'its', 'itself', 'they', 'them', 'their', 'theirs', 'themselves', 'what', 'which', 'who', 'whom', 'this', 'that', \"that'll\", 'these', 'those', 'am', 'is', 'are', 'was', 'were', 'be', 'been', 'being', 'have', 'has', 'had', 'having', 'do', 'does', 'did', 'doing', 'a', 'an', 'the', 'and', 'but', 'if', 'or', 'because', 'as', 'until', 'while', 'of', 'at', 'by', 'for', 'with', 'about', 'against', 'between', 'into', 'through', 'during', 'before', 'after', 'above', 'below', 'to', 'from', 'up', 'down', 'in', 'out', 'on', 'off', 'over', 'under', 'again', 'further', 'then', 'once', 'here', 'there', 'when', 'where', 'why', 'how', 'all', 'any', 'both', 'each', 'few', 'more', 'most', 'other', 'some', 'such', 'no', 'nor', 'not', 'only', 'own', 'same', 'so', 'than', 'too', 'very', 's', 't', 'can', 'will', 'just', 'don', \"don't\", 'should', \"should've\", 'now', 'd', 'll', 'm', 'o', 're', 've', 'y', 'ain', 'aren', \"aren't\", 'couldn', \"couldn't\", 'didn', \"didn't\", 'doesn', \"doesn't\", 'hadn', \"hadn't\", 'hasn', \"hasn't\", 'haven', \"haven't\", 'isn', \"isn't\", 'ma', 'mightn', \"mightn't\", 'mustn', \"mustn't\", 'needn', \"needn't\", 'shan', \"shan't\", 'shouldn', \"shouldn't\", 'wasn', \"wasn't\", 'weren', \"weren't\", 'won', \"won't\", 'wouldn', \"wouldn't\", 'uncle', 'grandmother', 'grandfather']\n"
          ]
        },
        {
          "output_type": "stream",
          "name": "stderr",
          "text": [
            "[nltk_data] Downloading package stopwords to /root/nltk_data...\n",
            "[nltk_data]   Package stopwords is already up-to-date!\n"
          ]
        }
      ],
      "source": [
        "# Stop words\n",
        "import nltk\n",
        "nltk.download('stopwords')\n",
        "stp_wrds = stopwords.words('english')\n",
        "stp_wrds.extend([\"uncle\", \"grandmother\", \"grandfather\"])\n",
        "print(stp_wrds)\n",
        "stop_words = set(stp_wrds)"
      ]
    },
    {
      "cell_type": "code",
      "execution_count": 88,
      "metadata": {
        "id": "4Hp1jEhusLY4"
      },
      "outputs": [],
      "source": [
        "# Tokenize the data\n",
        "tokenizer = get_tokenizer('basic_english')\n",
        "\n",
        "import string\n",
        "# Define a custom data transformation function\n",
        "def transform_fn(sample):\n",
        "    text = sample['text']\n",
        "    labels = sample['labels']\n",
        "\n",
        "    # Remove punctuation\n",
        "    text = text.translate(str.maketrans('', '', string.punctuation))\n",
        "    \n",
        "    # Convert text to lowercase\n",
        "    text = text.lower()\n",
        "    \n",
        "    # Remove numbers\n",
        "    text = re.sub(r'\\d+', '', text) # maybe don't remove, could be important \n",
        "    \n",
        "    # Tokenize text data\n",
        "    text = tokenizer(text)\n",
        "\n",
        "    filtered_words  = []\n",
        "    for word in text:\n",
        "      if word not in stop_words:\n",
        "        filtered_words.append(word)\n",
        "    text = filtered_words\n",
        "\n",
        "    # Convert labels to PyTorch tensor\n",
        "    return {'text': text, 'labels': labels}"
      ]
    },
    {
      "cell_type": "code",
      "execution_count": 89,
      "metadata": {
        "id": "2nmY6psTsNYM"
      },
      "outputs": [],
      "source": [
        "dataset = HealthcareTextDataset(dataframe, transform_fn)"
      ]
    },
    {
      "cell_type": "code",
      "execution_count": 90,
      "metadata": {
        "id": "FKH587uXsr_N"
      },
      "outputs": [],
      "source": [
        "def collate_fn(batch):\n",
        "    texts = [item['text'] for item in batch]  # Extract the text data from the batch\n",
        "    labels = [item['labels'] for item in batch]  # Extract the labels from the batch\n",
        "\n",
        "    # Find the maximum length of text sequences in the batch\n",
        "    max_len = max([len(text) for text in texts])\n",
        "\n",
        "    # Pad the text sequences with a padding token (e.g., '<pad>') to the maximum length\n",
        "    padded_texts = []\n",
        "    for text in texts:\n",
        "      padded_text = text + ['<pad>'] * (max_len - len(text))\n",
        "      padded_texts.append(padded_text)\n",
        "\n",
        "    # Convert the labels to a PyTorch tensor\n",
        "    labels = torch.stack(labels)\n",
        "\n",
        "    return {'text': padded_texts, 'labels': labels}"
      ]
    },
    {
      "cell_type": "code",
      "execution_count": 91,
      "metadata": {
        "id": "KZi6aXsLstuT",
        "colab": {
          "base_uri": "https://localhost:8080/"
        },
        "outputId": "e51bf73c-eab0-4d08-b64d-79d8cf438e1c"
      },
      "outputs": [
        {
          "output_type": "stream",
          "name": "stdout",
          "text": [
            "1173 169 335\n"
          ]
        }
      ],
      "source": [
        "# Setting up random seed\n",
        "torch.manual_seed(456)\n",
        "\n",
        "# Create train, test and validation split\n",
        "train_size = int(0.7 * len(dataset))\n",
        "test_size = int(0.2 * len(dataset))\n",
        "val_size = len(dataset) - train_size - test_size\n",
        "\n",
        "print(train_size, val_size, test_size)\n",
        "train_dataset, val_dataset, test_dataset = torch.utils.data.random_split(dataset, [train_size, val_size, test_size])\n",
        "\n",
        "# Create data loaders\n",
        "batch_size = 64\n",
        "train_loader = DataLoader(train_dataset, batch_size=batch_size, shuffle=True,  collate_fn=collate_fn)\n",
        "val_loader   = DataLoader(val_dataset,   batch_size=batch_size, shuffle=False, collate_fn=collate_fn)\n",
        "test_loader  = DataLoader(test_dataset,  batch_size=batch_size, shuffle=False, collate_fn=collate_fn)"
      ]
    },
    {
      "cell_type": "markdown",
      "source": [
        "# Training a Word2Vec Model"
      ],
      "metadata": {
        "id": "liqPieT8zWQP"
      }
    },
    {
      "cell_type": "code",
      "execution_count": 92,
      "metadata": {
        "id": "amuFbsrXsveU"
      },
      "outputs": [],
      "source": [
        "from gensim.models import Word2Vec\n",
        "\n",
        "corpus_processed = []\n",
        "for i in train_dataset:\n",
        "  corpus_processed.append(i['text'])\n",
        "\n",
        "RANDOM_SEED = 23432098\n",
        "VEC_SIZE = 300\n",
        "MIN_COUNT = 5\n",
        "sg = 0 # 0 is CBOW, 1 is skip gram\n",
        "w2v_model = Word2Vec(sentences=corpus_processed, \n",
        "                     vector_size= VEC_SIZE, \n",
        "                     min_count = MIN_COUNT, \n",
        "                     workers=1, \n",
        "                     seed = RANDOM_SEED, \n",
        "                     sg=sg, \n",
        "                     epochs=15,\n",
        "                     window=10,\n",
        "                     negative=10)"
      ]
    },
    {
      "cell_type": "markdown",
      "source": [
        "# Create Word Embeddings"
      ],
      "metadata": {
        "id": "Q57yYadV9Rjw"
      }
    },
    {
      "cell_type": "code",
      "execution_count": 93,
      "metadata": {
        "colab": {
          "base_uri": "https://localhost:8080/"
        },
        "id": "1H1LchglsxCb",
        "outputId": "9a23afa2-391b-4e52-f2cf-29a6eb5e5779"
      },
      "outputs": [
        {
          "output_type": "stream",
          "name": "stdout",
          "text": [
            "torch.Size([9704, 300])\n",
            "tensor([[-8.2143e-02, -1.1525e+00,  7.2324e-01,  ..., -1.4286e+00,\n",
            "         -1.1109e+00, -2.1582e+00],\n",
            "        [ 2.8107e-01, -1.5915e+00, -4.1570e-01,  ..., -1.5754e+00,\n",
            "          1.9991e-01, -1.1243e+00],\n",
            "        [ 3.0761e-01, -8.5876e-01,  2.4612e+00,  ...,  1.6241e+00,\n",
            "         -5.4952e-03,  1.9741e+00],\n",
            "        ...,\n",
            "        [-3.1590e-03, -1.7581e-01, -2.5038e-02,  ...,  1.2914e-01,\n",
            "         -1.2780e-01,  7.6291e-02],\n",
            "        [ 1.5393e-01,  3.1528e-02,  6.0525e-02,  ..., -5.9774e-03,\n",
            "          1.1802e-04, -1.9423e-02],\n",
            "        [-6.0202e-02, -1.7119e-01,  1.7506e-01,  ..., -1.3958e-02,\n",
            "          5.1933e-02, -9.7018e-02]], device='cuda:0')\n"
          ]
        }
      ],
      "source": [
        "kv = w2v_model.wv\n",
        "kv.vectors\n",
        "#then convert to kv.vectors to tensor\n",
        "embeddings = torch.tensor(kv.vectors, device=device)\n",
        "print(embeddings.shape)\n",
        "print(embeddings)"
      ]
    },
    {
      "cell_type": "markdown",
      "source": [
        "Create a Function to look at some word similarities to see how well the model has been trained."
      ],
      "metadata": {
        "id": "iKEyR_7c9fdt"
      }
    },
    {
      "cell_type": "code",
      "execution_count": 94,
      "metadata": {
        "id": "KWN3sDoNwJJZ"
      },
      "outputs": [],
      "source": [
        "#input: model: word2vec model\n",
        "#       word: a single word, e.g. 'heart'\n",
        "#output: list_of_words: a list of words similar to the given word\n",
        "def similar_word(model, word):\n",
        "    \n",
        "    list_of_words = []\n",
        "\n",
        "    # your code here\n",
        "    tup_of_words = model.wv.most_similar(word)\n",
        "    list_of_words = list(map(lambda x: x[0], tup_of_words))\n",
        "    return list_of_words"
      ]
    },
    {
      "cell_type": "markdown",
      "source": [
        "The results look promising for 'cancer', ' obesity' and 'heart'. The result for 'blood' doesn't look that accurate."
      ],
      "metadata": {
        "id": "-LcCj91K9hJr"
      }
    },
    {
      "cell_type": "code",
      "execution_count": 95,
      "metadata": {
        "colab": {
          "base_uri": "https://localhost:8080/"
        },
        "id": "nhLietbywKIN",
        "outputId": "ccb48800-70ca-40cb-a6db-9bfe08a91976"
      },
      "outputs": [
        {
          "output_type": "stream",
          "name": "stdout",
          "text": [
            "The words similar to 'cancer' are: 'ca, adenocarcinoma, mets, maternal, xrt, carcinoma, breast, nsclc, rcc, father'.\n",
            "The words similar to 'obesity' are: 'morbid, osa, asthma, hypoventilation, migraines, apnea, osteoarthritis, oa, djd, hypercholesterolemia'.\n",
            "The words similar to 'blood' are: 'dropped, pcwpmmhg, support, sent, nailbed, high, systolics, stabilized, estimated, drawn'.\n",
            "The words similar to 'heart' are: 'thrive, congestive, cardiovascular, resp, cardiac, respiratory, biventricular, wean, ejection, pneumothoraces'.\n"
          ]
        }
      ],
      "source": [
        "word = 'cancer'\n",
        "assert type(similar_word(w2v_model, word)) is list\n",
        "print(\"The words similar to '%s' are: '%s'.\" % (word, ', '.join(similar_word(w2v_model, word))))\n",
        "\n",
        "word = 'obesity'\n",
        "assert type(similar_word(w2v_model, word)) is list\n",
        "print(\"The words similar to '%s' are: '%s'.\" % (word, ', '.join(similar_word(w2v_model, word))))\n",
        "\n",
        "word = 'blood'\n",
        "assert type(similar_word(w2v_model, word)) is list\n",
        "print(\"The words similar to '%s' are: '%s'.\" % (word, ', '.join(similar_word(w2v_model, word))))\n",
        "\n",
        "word = 'heart'\n",
        "assert type(similar_word(w2v_model, word)) is list\n",
        "print(\"The words similar to '%s' are: '%s'.\" % (word, ', '.join(similar_word(w2v_model, word))))"
      ]
    },
    {
      "cell_type": "code",
      "execution_count": 96,
      "metadata": {
        "colab": {
          "base_uri": "https://localhost:8080/"
        },
        "id": "J22hypn88nKy",
        "outputId": "cbba339c-3198-4c4f-d71b-a29328aec4f3"
      },
      "outputs": [
        {
          "output_type": "stream",
          "name": "stdout",
          "text": [
            "['po', 'name', 'tablet', 'patient', 'blood', 'sig', 'daily', 'hospital', 'one', 'day', 'discharge', 'history', 'last', 'left', 'pm', 'admission', 'right', 'pain', 'pt', 'date', 'namepattern', 'ct', 'medications', 'normal', 'times', 'first', 'chest', 'also', 'given', 'status', 'hours', 'sp', 'course', 'every', 'continued', 'disease', 'needed', 'home', 'stable', 'well', 'please', 'capsule', 'md', 'started', 'care', 'bid', 'two', 'days', 'qh', 'per', 'negative', 'refills', 'hct', 'x', 'un', 'stitle', 'tablets', 'showed', 'prior', 'dr', 'disp', 'time', 'wbc', 'medical', 'likely', 'seen', 'past', 'pulmonary', 'acute', 'glucose', 'renal', 'patients', 'service', 'iv', 'urine', 'release', 'qd', 'noted', 'edema', 'chronic', 'followup', 'l', 'due', 'instructions', 'prn', 'failure', 'artery', 'present', 'exam', 'plt', 'heart', 'mild', 'family', 'known', 'rbc', 'admitted', 'physical', 'tid', 'without']\n",
            "9704\n"
          ]
        }
      ],
      "source": [
        "w2v_index = kv.index_to_key\n",
        "print(w2v_index[1:100])\n",
        "print(len(w2v_index))"
      ]
    },
    {
      "cell_type": "code",
      "execution_count": 97,
      "metadata": {
        "id": "RvuKAvdI8hYM"
      },
      "outputs": [],
      "source": [
        "def word2idx(w2v_index):\n",
        "    word_to_idx = {'<pad>':0}\n",
        "    idx = 1\n",
        "    for word in w2v_index:\n",
        "        if word not in word_to_idx:\n",
        "            word_to_idx[word] = idx\n",
        "            idx += 1\n",
        "    return word_to_idx"
      ]
    },
    {
      "cell_type": "code",
      "execution_count": 98,
      "metadata": {
        "id": "MCFqK-sE8jUO"
      },
      "outputs": [],
      "source": [
        "w2v_dictionary = word2idx(w2v_index)"
      ]
    },
    {
      "cell_type": "code",
      "execution_count": 99,
      "metadata": {
        "id": "Qlk0Uggr88OA"
      },
      "outputs": [],
      "source": [
        "idx_0 = torch.zeros(1, 300, device = device)\n",
        "embeddings = torch.cat((idx_0, embeddings))"
      ]
    },
    {
      "cell_type": "markdown",
      "source": [
        "# Fitting a CNN Classifier"
      ],
      "metadata": {
        "id": "rhxwjxVh9wSZ"
      }
    },
    {
      "cell_type": "code",
      "execution_count": 100,
      "metadata": {
        "id": "G1Sw8yAdvGls"
      },
      "outputs": [],
      "source": [
        "import torch\n",
        "import torch.nn as nn\n",
        "import torch.nn.functional as F\n",
        "import random \n",
        "\n",
        "class CNNClassifier(nn.Module):\n",
        "    def __init__(self, embedding_dim, num_filters, filter_sizes, embeddings, output_size, w2v_dictionary):\n",
        "        super(CNNClassifier, self).__init__()\n",
        "        self.dictionary = w2v_dictionary\n",
        "        self.embedding = nn.Embedding.from_pretrained(embeddings)#(vocab_size, embedding_dim)\n",
        "        self.conv1 = nn.Conv1d(embedding_dim, num_filters, filter_sizes[0])\n",
        "        self.conv2 = nn.Conv1d(embedding_dim, num_filters, filter_sizes[1])\n",
        "        self.conv3 = nn.Conv1d(embedding_dim, num_filters, filter_sizes[2])\n",
        "        self.conv4 = nn.Conv1d(embedding_dim, num_filters, filter_sizes[3])\n",
        "        self.conv5 = nn.Conv1d(embedding_dim, num_filters, filter_sizes[4])\n",
        "        self.dropout = nn.Dropout(p = 0.1)\n",
        "        self.fc = nn.Linear(len(filter_sizes) * num_filters, output_size)\n",
        "        \n",
        "    def forward(self, x):\n",
        "      # change to indexes, then to tensor\n",
        "        z2 = []\n",
        "        for ls in x:\n",
        "          z1 = []\n",
        "          for word in ls:\n",
        "            if word not in self.dictionary.keys():\n",
        "              random_key = random.sample(list(self.dictionary.keys()), 1)[0]\n",
        "              z1.append(self.dictionary[random_key])\n",
        "            else:\n",
        "              z1.append(self.dictionary[word])\n",
        "          z2.append(z1)  \n",
        "\n",
        "        x = torch.tensor(z2, device = device)\n",
        "        x = self.embedding(x)\n",
        "        x = x.permute(0, 2, 1)  # Permute the dimensions for Conv1d (batch_size, embedding_dim, sequence_length)\n",
        "\n",
        "        x1 = F.relu(self.conv1(x))\n",
        "        x1 = F.max_pool1d(x1 , x1.size(2)).squeeze(2)\n",
        "\n",
        "        x2 = F.relu(self.conv2(x))\n",
        "        x2 = F.max_pool1d(x2 , x2.size(2)).squeeze(2)\n",
        "\n",
        "        x3 = F.relu(self.conv3(x))\n",
        "        x3 = F.max_pool1d(x3 , x3.size(2)).squeeze(2)\n",
        "\n",
        "        x4 = F.relu(self.conv4(x))\n",
        "        x4 = F.max_pool1d(x4 , x4.size(2)).squeeze(2)\n",
        "\n",
        "        x5 = F.relu(self.conv4(x))\n",
        "        x5 = F.max_pool1d(x5 , x5.size(2)).squeeze(2)\n",
        "\n",
        "        out = torch.cat((x1, x2, x3, x4, x5), 1)\n",
        "        out = self.dropout(out)\n",
        "        out = self.fc(out)\n",
        "\n",
        "        out = torch.sigmoid(out)\n",
        "\n",
        "        return out"
      ]
    },
    {
      "cell_type": "markdown",
      "source": [
        "# Setting up the model Parameters"
      ],
      "metadata": {
        "id": "hDiFLX-W93bG"
      }
    },
    {
      "cell_type": "code",
      "execution_count": 101,
      "metadata": {
        "colab": {
          "base_uri": "https://localhost:8080/"
        },
        "id": "RAw0chqJ7AZS",
        "outputId": "61eff3a8-d52b-4f24-e80a-9e6418ce689d"
      },
      "outputs": [
        {
          "output_type": "execute_result",
          "data": {
            "text/plain": [
              "CNNClassifier(\n",
              "  (embedding): Embedding(9705, 300)\n",
              "  (conv1): Conv1d(300, 256, kernel_size=(1,), stride=(1,))\n",
              "  (conv2): Conv1d(300, 256, kernel_size=(2,), stride=(1,))\n",
              "  (conv3): Conv1d(300, 256, kernel_size=(3,), stride=(1,))\n",
              "  (conv4): Conv1d(300, 256, kernel_size=(4,), stride=(1,))\n",
              "  (conv5): Conv1d(300, 256, kernel_size=(5,), stride=(1,))\n",
              "  (dropout): Dropout(p=0.1, inplace=False)\n",
              "  (fc): Linear(in_features=1280, out_features=14, bias=True)\n",
              ")"
            ]
          },
          "metadata": {},
          "execution_count": 101
        }
      ],
      "source": [
        "# Parametrs\n",
        "embedding_dim = 300\n",
        "num_filters = 256\n",
        "filter_sizes = [1, 2, 3, 4, 5]\n",
        "output_size = 14\n",
        "\n",
        "model = CNNClassifier(embedding_dim, num_filters, filter_sizes, embeddings, output_size, w2v_dictionary)\n",
        "\n",
        "model.to(device)\n",
        "\n",
        "# Print a model sumary\n",
        "#summary(model, input_size=(1600, 10), batch_size=-1)"
      ]
    },
    {
      "cell_type": "code",
      "execution_count": 102,
      "metadata": {
        "id": "k2HirDUt9Jen"
      },
      "outputs": [],
      "source": [
        "# Criterion\n",
        "criterion = nn.BCELoss()\n",
        "\n",
        "# Optimizer\n",
        "optimizer = torch.optim.Adadelta(model.parameters(), lr=0.05, eps=1e-06)"
      ]
    },
    {
      "cell_type": "markdown",
      "source": [
        "# Training the Model"
      ],
      "metadata": {
        "id": "h_C6XHsq-ZFG"
      }
    },
    {
      "cell_type": "code",
      "execution_count": 103,
      "metadata": {
        "id": "AIyedpEL9MZi"
      },
      "outputs": [],
      "source": [
        "# Train Model\n",
        "def train_model(model, train_dataloader, val_dataloader, epochs=20, optimizer=optimizer, criterion=criterion):\n",
        "  model.to(device)\n",
        "  curr_epoch_loss_avg =[]\n",
        "  val_loss_avg = []\n",
        "  for epoch in range(epochs):\n",
        "      model.train()\n",
        "      curr_epoch_loss = []\n",
        "      \n",
        "      for batch in tqdm(train_dataloader):\n",
        "          text = batch['text']\n",
        "          labels = batch['labels']#.long().flatten()\n",
        "          optimizer.zero_grad()\n",
        "          outputs = model(text)#.flatten()\n",
        "          loss = criterion(outputs, labels)\n",
        "          loss.backward()\n",
        "          optimizer.step()\n",
        "          curr_epoch_loss.append(loss.cpu().data.numpy())\n",
        "      curr_epoch_loss_avg.append(np.mean(curr_epoch_loss))\n",
        "      print(f\"Epoch {epoch}: curr_epoch_loss={np.mean(curr_epoch_loss):.3f}\")\n",
        "      \n",
        "      # Evaluation\n",
        "      model.eval()\n",
        "      val_loss = 0.0\n",
        "      \n",
        "      with torch.no_grad():\n",
        "          for batch in val_dataloader:\n",
        "              text = batch['text']\n",
        "              labels = batch['labels']#.long().flatten()\n",
        "              outputs = model(text)#.flatten()\n",
        "              val_loss += criterion(outputs, labels).item()  \n",
        "              \n",
        "              loss = criterion(outputs, labels)\n",
        "              losses.append(loss.item())\n",
        "\n",
        "      avg_val_loss = val_loss / len(val_dataloader)\n",
        "      val_loss_avg.append(avg_val_loss)\n",
        "\n",
        "      print(f'Epoch [{epoch+1}/{epochs}], Val Loss: {avg_val_loss:.3f}')\n",
        "      #print(\"Valid Acc  : {:.3f}\".format(accuracy_score(Y_shuffled, Y_preds)))\n",
        "  return (model, curr_epoch_loss_avg, val_loss_avg)"
      ]
    },
    {
      "cell_type": "code",
      "execution_count": 104,
      "metadata": {
        "colab": {
          "base_uri": "https://localhost:8080/"
        },
        "id": "pX5XsXpD9Opj",
        "outputId": "6376ddd1-aa2f-4562-9a87-2b95e2e9a5b9"
      },
      "outputs": [
        {
          "output_type": "stream",
          "name": "stderr",
          "text": [
            "100%|██████████| 19/19 [00:11<00:00,  1.65it/s]\n"
          ]
        },
        {
          "output_type": "stream",
          "name": "stdout",
          "text": [
            "Epoch 134: curr_epoch_loss=0.132\n",
            "Epoch [135/150], Val Loss: 0.318\n"
          ]
        },
        {
          "output_type": "stream",
          "name": "stderr",
          "text": [
            "100%|██████████| 19/19 [00:11<00:00,  1.64it/s]\n"
          ]
        },
        {
          "output_type": "stream",
          "name": "stdout",
          "text": [
            "Epoch 135: curr_epoch_loss=0.132\n",
            "Epoch [136/150], Val Loss: 0.317\n"
          ]
        },
        {
          "output_type": "stream",
          "name": "stderr",
          "text": [
            "100%|██████████| 19/19 [00:11<00:00,  1.65it/s]\n"
          ]
        },
        {
          "output_type": "stream",
          "name": "stdout",
          "text": [
            "Epoch 136: curr_epoch_loss=0.129\n",
            "Epoch [137/150], Val Loss: 0.323\n"
          ]
        },
        {
          "output_type": "stream",
          "name": "stderr",
          "text": [
            "100%|██████████| 19/19 [00:11<00:00,  1.64it/s]\n"
          ]
        },
        {
          "output_type": "stream",
          "name": "stdout",
          "text": [
            "Epoch 137: curr_epoch_loss=0.128\n",
            "Epoch [138/150], Val Loss: 0.346\n"
          ]
        },
        {
          "output_type": "stream",
          "name": "stderr",
          "text": [
            "100%|██████████| 19/19 [00:11<00:00,  1.64it/s]\n"
          ]
        },
        {
          "output_type": "stream",
          "name": "stdout",
          "text": [
            "Epoch 138: curr_epoch_loss=0.126\n",
            "Epoch [139/150], Val Loss: 0.320\n"
          ]
        },
        {
          "output_type": "stream",
          "name": "stderr",
          "text": [
            "100%|██████████| 19/19 [00:11<00:00,  1.65it/s]\n"
          ]
        },
        {
          "output_type": "stream",
          "name": "stdout",
          "text": [
            "Epoch 139: curr_epoch_loss=0.129\n",
            "Epoch [140/150], Val Loss: 0.313\n"
          ]
        },
        {
          "output_type": "stream",
          "name": "stderr",
          "text": [
            "100%|██████████| 19/19 [00:11<00:00,  1.66it/s]\n"
          ]
        },
        {
          "output_type": "stream",
          "name": "stdout",
          "text": [
            "Epoch 140: curr_epoch_loss=0.125\n",
            "Epoch [141/150], Val Loss: 0.342\n"
          ]
        },
        {
          "output_type": "stream",
          "name": "stderr",
          "text": [
            "100%|██████████| 19/19 [00:11<00:00,  1.68it/s]\n"
          ]
        },
        {
          "output_type": "stream",
          "name": "stdout",
          "text": [
            "Epoch 141: curr_epoch_loss=0.126\n",
            "Epoch [142/150], Val Loss: 0.316\n"
          ]
        },
        {
          "output_type": "stream",
          "name": "stderr",
          "text": [
            "100%|██████████| 19/19 [00:11<00:00,  1.66it/s]\n"
          ]
        },
        {
          "output_type": "stream",
          "name": "stdout",
          "text": [
            "Epoch 142: curr_epoch_loss=0.123\n",
            "Epoch [143/150], Val Loss: 0.326\n"
          ]
        },
        {
          "output_type": "stream",
          "name": "stderr",
          "text": [
            "100%|██████████| 19/19 [00:11<00:00,  1.66it/s]\n"
          ]
        },
        {
          "output_type": "stream",
          "name": "stdout",
          "text": [
            "Epoch 143: curr_epoch_loss=0.124\n",
            "Epoch [144/150], Val Loss: 0.323\n"
          ]
        },
        {
          "output_type": "stream",
          "name": "stderr",
          "text": [
            "100%|██████████| 19/19 [00:11<00:00,  1.67it/s]\n"
          ]
        },
        {
          "output_type": "stream",
          "name": "stdout",
          "text": [
            "Epoch 144: curr_epoch_loss=0.118\n",
            "Epoch [145/150], Val Loss: 0.334\n"
          ]
        },
        {
          "output_type": "stream",
          "name": "stderr",
          "text": [
            "100%|██████████| 19/19 [00:11<00:00,  1.67it/s]\n"
          ]
        },
        {
          "output_type": "stream",
          "name": "stdout",
          "text": [
            "Epoch 145: curr_epoch_loss=0.121\n",
            "Epoch [146/150], Val Loss: 0.326\n"
          ]
        },
        {
          "output_type": "stream",
          "name": "stderr",
          "text": [
            "100%|██████████| 19/19 [00:11<00:00,  1.69it/s]\n"
          ]
        },
        {
          "output_type": "stream",
          "name": "stdout",
          "text": [
            "Epoch 146: curr_epoch_loss=0.121\n",
            "Epoch [147/150], Val Loss: 0.324\n"
          ]
        },
        {
          "output_type": "stream",
          "name": "stderr",
          "text": [
            "100%|██████████| 19/19 [00:11<00:00,  1.64it/s]\n"
          ]
        },
        {
          "output_type": "stream",
          "name": "stdout",
          "text": [
            "Epoch 147: curr_epoch_loss=0.116\n",
            "Epoch [148/150], Val Loss: 0.322\n"
          ]
        },
        {
          "output_type": "stream",
          "name": "stderr",
          "text": [
            "100%|██████████| 19/19 [00:11<00:00,  1.67it/s]\n"
          ]
        },
        {
          "output_type": "stream",
          "name": "stdout",
          "text": [
            "Epoch 148: curr_epoch_loss=0.119\n",
            "Epoch [149/150], Val Loss: 0.333\n"
          ]
        },
        {
          "output_type": "stream",
          "name": "stderr",
          "text": [
            "100%|██████████| 19/19 [00:11<00:00,  1.65it/s]\n"
          ]
        },
        {
          "output_type": "stream",
          "name": "stdout",
          "text": [
            "Epoch 149: curr_epoch_loss=0.119\n",
            "Epoch [150/150], Val Loss: 0.329\n",
            "--- 1985.4096331596375 seconds ---\n"
          ]
        }
      ],
      "source": [
        "n_epochs = 150\n",
        "import time\n",
        "start_time = time.time()\n",
        "trained_model, train_loss, val_loss = train_model(model, train_loader, val_loader, n_epochs)\n",
        "print(\"--- %s seconds ---\" % (time.time() - start_time))"
      ]
    },
    {
      "cell_type": "markdown",
      "source": [
        "# Training Loss vs Validation Loss"
      ],
      "metadata": {
        "id": "OEMkB8oiTOkN"
      }
    },
    {
      "cell_type": "code",
      "source": [
        "from matplotlib.pylab import plt\n",
        "from numpy import arange\n",
        " \n",
        "# Generate a sequence of integers to represent the epoch numbers\n",
        "epochs = range(1, 100)\n",
        "fig = plt.figure(figsize =(10, 7))\n",
        "# Plot and label the training and validation loss values\n",
        "plt.plot(train_loss, label='Training Loss')\n",
        "plt.plot(val_loss, label='Validation Loss')\n",
        " \n",
        "# Add in a title and axes labels\n",
        "plt.title('Training and Validation Loss')\n",
        "plt.xlabel('Epochs')\n",
        "plt.ylabel('Loss')\n",
        " \n",
        "# Set the tick locations\n",
        "plt.xticks(arange(0, 150, 10))\n",
        " \n",
        "# Display the plot\n",
        "plt.legend(loc='best')\n",
        "plt.show()"
      ],
      "metadata": {
        "colab": {
          "base_uri": "https://localhost:8080/",
          "height": 641
        },
        "id": "_a5ob56dzJiu",
        "outputId": "5bfc1e45-9513-4b70-f59b-a29b738579ff"
      },
      "execution_count": 113,
      "outputs": [
        {
          "output_type": "display_data",
          "data": {
            "text/plain": [
              "<Figure size 1000x700 with 1 Axes>"
            ],
            "image/png": "[encoded data removed]"
          },
          "metadata": {}
        }
      ]
    },
    {
      "cell_type": "markdown",
      "source": [
        "# Evaluate Model Function "
      ],
      "metadata": {
        "id": "kbMcTamK0eNY"
      }
    },
    {
      "cell_type": "code",
      "execution_count": 106,
      "metadata": {
        "id": "eAyjpKA7fjkB"
      },
      "outputs": [],
      "source": [
        "def eval_model(model, dataloader):\n",
        "    model.eval()\n",
        "    Y_pred = []\n",
        "    Y_true = []\n",
        "    with torch.no_grad():\n",
        "        for batch in dataloader:\n",
        "            text = batch['text']\n",
        "            labels = batch['labels']\n",
        "            pred = model(text).cpu()\n",
        "            pred=np.round(pred)\n",
        "            Y_pred.append(pred.numpy())\n",
        "            Y_true.append(labels.cpu().numpy())\n",
        "        Y_pred = np.concatenate(Y_pred, axis = 0)\n",
        "        Y_true = np.concatenate(Y_true, axis = 0)\n",
        "    return Y_pred, Y_true"
      ]
    },
    {
      "cell_type": "markdown",
      "source": [
        "Make Predictions on the Test Data -"
      ],
      "metadata": {
        "id": "LeCHoA0J0ZNd"
      }
    },
    {
      "cell_type": "code",
      "execution_count": 107,
      "metadata": {
        "id": "MnVRcqHQf9Xo"
      },
      "outputs": [],
      "source": [
        "y_pred, y_true = eval_model(trained_model, test_loader)"
      ]
    },
    {
      "cell_type": "markdown",
      "source": [
        "# Evaluating the Model Performance"
      ],
      "metadata": {
        "id": "J6euSXXo0OMx"
      }
    },
    {
      "cell_type": "code",
      "execution_count": 108,
      "metadata": {
        "colab": {
          "base_uri": "https://localhost:8080/"
        },
        "id": "omb3wrzfGfa8",
        "outputId": "3757dab6-fa20-470e-8bfd-8bc24bf27241"
      },
      "outputs": [
        {
          "output_type": "stream",
          "name": "stdout",
          "text": [
            "Test Accuracy : 0.19402985074626866\n",
            "\n",
            "Classification Report : \n",
            "                                               precision    recall  f1-score   support\n",
            "\n",
            "                                      Obesity       0.00      0.00      0.00        24\n",
            "                                Non.Adherence       0.50      0.03      0.06        32\n",
            "              Developmental.Delay.Retardation       1.00      0.12      0.22         8\n",
            "                       Advanced.Heart.Disease       0.51      0.33      0.40        58\n",
            "                        Advanced.Lung.Disease       0.60      0.08      0.15        36\n",
            "Schizophrenia.and.other.Psychiatric.Disorders       0.80      0.06      0.11        71\n",
            "                                Alcohol.Abuse       0.78      0.58      0.67        48\n",
            "                        Other.Substance.Abuse       0.57      0.40      0.47        30\n",
            "                    Chronic.Pain.Fibromyalgia       0.73      0.24      0.36        66\n",
            "             Chronic.Neurological.Dystrophies       0.48      0.52      0.50        69\n",
            "                              Advanced.Cancer       0.94      0.43      0.59        35\n",
            "                                   Depression       0.82      0.33      0.47        93\n",
            "                                     Dementia       0.50      0.04      0.07        27\n",
            "                                       Unsure       1.00      0.00      0.00        37\n",
            "\n",
            "                                    micro avg       0.64      0.26      0.37       634\n",
            "                                    macro avg       0.66      0.23      0.29       634\n",
            "                                 weighted avg       0.67      0.26      0.33       634\n",
            "                                  samples avg       0.80      0.38      0.36       634\n",
            "\n"
          ]
        }
      ],
      "source": [
        "target_classes =['Obesity', 'Non.Adherence', 'Developmental.Delay.Retardation',\n",
        "               'Advanced.Heart.Disease', 'Advanced.Lung.Disease',\n",
        "               'Schizophrenia.and.other.Psychiatric.Disorders', 'Alcohol.Abuse',\n",
        "               'Other.Substance.Abuse', 'Chronic.Pain.Fibromyalgia',\n",
        "               'Chronic.Neurological.Dystrophies', 'Advanced.Cancer', 'Depression',\n",
        "               'Dementia', 'Unsure']\n",
        "\n",
        "# Collecting the Predcitions and Truth\n",
        "\n",
        "print(\"Test Accuracy : {}\".format(accuracy_score(y_true, y_pred), zero_division=1))\n",
        "print(\"\\nClassification Report : \")\n",
        "print(classification_report(y_true, y_pred, target_names=target_classes, zero_division=1))"
      ]
    },
    {
      "cell_type": "markdown",
      "source": [
        "# AUC Score & Accuracy"
      ],
      "metadata": {
        "id": "ZVPxX3N91gu9"
      }
    },
    {
      "cell_type": "code",
      "source": [
        "y_t = y_true.transpose()\n",
        "y_p = y_pred.transpose()\n",
        "auc_list = []\n",
        "acc_list = []\n",
        "for i in range(len(y_t)):\n",
        "  auc = roc_auc_score(y_t[i], y_p[i], average=None)\n",
        "  acc = accuracy_score(y_t[i], y_p[i], normalize= True)\n",
        "  auc_list.append(auc)\n",
        "  acc_list.append(acc)\n",
        "  print(f'{target_classes[i]} : AUC - {auc:.2f}, Accuracy - {acc:.2f}')\n"
      ],
      "metadata": {
        "colab": {
          "base_uri": "https://localhost:8080/"
        },
        "id": "leUguaQA1jnS",
        "outputId": "965244b4-066f-4859-cfe7-ab1c3c421ac5"
      },
      "execution_count": 109,
      "outputs": [
        {
          "output_type": "stream",
          "name": "stdout",
          "text": [
            "Obesity : AUC - 0.50, Accuracy - 0.93\n",
            "Non.Adherence : AUC - 0.51, Accuracy - 0.90\n",
            "Developmental.Delay.Retardation : AUC - 0.56, Accuracy - 0.98\n",
            "Advanced.Heart.Disease : AUC - 0.63, Accuracy - 0.83\n",
            "Advanced.Lung.Disease : AUC - 0.54, Accuracy - 0.90\n",
            "Schizophrenia.and.other.Psychiatric.Disorders : AUC - 0.53, Accuracy - 0.80\n",
            "Alcohol.Abuse : AUC - 0.78, Accuracy - 0.92\n",
            "Other.Substance.Abuse : AUC - 0.69, Accuracy - 0.92\n",
            "Chronic.Pain.Fibromyalgia : AUC - 0.61, Accuracy - 0.83\n",
            "Chronic.Neurological.Dystrophies : AUC - 0.69, Accuracy - 0.79\n",
            "Advanced.Cancer : AUC - 0.71, Accuracy - 0.94\n",
            "Depression : AUC - 0.65, Accuracy - 0.79\n",
            "Dementia : AUC - 0.52, Accuracy - 0.92\n",
            "Unsure : AUC - 0.50, Accuracy - 0.89\n"
          ]
        }
      ]
    },
    {
      "cell_type": "markdown",
      "source": [
        "# AUC Score Plot"
      ],
      "metadata": {
        "id": "OfK5NQ_7TWjX"
      }
    },
    {
      "cell_type": "code",
      "source": [
        "from matplotlib import pyplot as plt\n",
        " \n",
        "# Figure Size\n",
        "fig = plt.figure(figsize =(10, 7))\n",
        "\n",
        "\n",
        "# Horizontal Bar Plot\n",
        "plt.bar(target_classes, auc_list)\n",
        "plt.xticks(rotation='vertical') \n",
        "\n",
        "# Show Plot\n",
        "plt.show()"
      ],
      "metadata": {
        "colab": {
          "base_uri": "https://localhost:8080/",
          "height": 904
        },
        "id": "rn1GXpgKEjQu",
        "outputId": "e65347b8-5db6-4cad-a5c0-b875add23d76"
      },
      "execution_count": 110,
      "outputs": [
        {
          "output_type": "display_data",
          "data": {
            "text/plain": [
              "<Figure size 1000x700 with 1 Axes>"
            ],
            "image/png": "[encoded data removed]"
          },
          "metadata": {}
        }
      ]
    },
    {
      "cell_type": "markdown",
      "source": [
        "# Accuracy Score Plot"
      ],
      "metadata": {
        "id": "EkIEXUeyTa9q"
      }
    },
    {
      "cell_type": "code",
      "source": [
        "from matplotlib import pyplot as plt\n",
        " \n",
        "# Figure Size\n",
        "fig = plt.figure(figsize =(10, 7))\n",
        "\n",
        "\n",
        "# Horizontal Bar Plot\n",
        "plt.bar(target_classes, acc_list)\n",
        "plt.xticks(rotation='vertical') \n",
        "# Show Plot\n",
        "plt.show()"
      ],
      "metadata": {
        "colab": {
          "base_uri": "https://localhost:8080/",
          "height": 904
        },
        "id": "gnRRBlfBR4Fe",
        "outputId": "a2222037-c859-400e-ffc8-137c6e3c66d0"
      },
      "execution_count": 111,
      "outputs": [
        {
          "output_type": "display_data",
          "data": {
            "text/plain": [
              "<Figure size 1000x700 with 1 Axes>"
            ],
            "image/png": "[encoded data removed]"
          },
          "metadata": {}
        }
      ]
    },
    {
      "cell_type": "code",
      "source": [
        "# Model Path\n",
        "PATH = '/content/drive/MyDrive/Data/Experiment_4.pth'\n",
        "\n",
        "# Save the Model\n",
        "torch.save(trained_model, PATH)\n",
        "\n",
        "# Load the model\n",
        "trained_model = torch.load(PATH)\n",
        "\n",
        "# Print the Model\n",
        "print(trained_model)"
      ],
      "metadata": {
        "colab": {
          "base_uri": "https://localhost:8080/"
        },
        "id": "Cw6Hv_f5BoNK",
        "outputId": "0dccf924-39ca-4cf6-fc84-c92a9f6b0d60"
      },
      "execution_count": 112,
      "outputs": [
        {
          "output_type": "stream",
          "name": "stdout",
          "text": [
            "CNNClassifier(\n",
            "  (embedding): Embedding(9705, 300)\n",
            "  (conv1): Conv1d(300, 256, kernel_size=(1,), stride=(1,))\n",
            "  (conv2): Conv1d(300, 256, kernel_size=(2,), stride=(1,))\n",
            "  (conv3): Conv1d(300, 256, kernel_size=(3,), stride=(1,))\n",
            "  (conv4): Conv1d(300, 256, kernel_size=(4,), stride=(1,))\n",
            "  (conv5): Conv1d(300, 256, kernel_size=(5,), stride=(1,))\n",
            "  (dropout): Dropout(p=0.1, inplace=False)\n",
            "  (fc): Linear(in_features=1280, out_features=14, bias=True)\n",
            ")\n"
          ]
        }
      ]
    }
  ],
  "metadata": {
    "accelerator": "GPU",
    "colab": {
      "machine_shape": "hm",
      "provenance": [],
      "include_colab_link": true
    },
    "gpuClass": "premium",
    "kernelspec": {
      "display_name": "Python 3",
      "name": "python3"
    },
    "language_info": {
      "name": "python"
    }
  },
  "nbformat": 4,
  "nbformat_minor": 0
}