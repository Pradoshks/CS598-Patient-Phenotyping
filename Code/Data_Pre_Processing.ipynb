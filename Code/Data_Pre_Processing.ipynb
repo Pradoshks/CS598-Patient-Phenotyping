{
  "nbformat": 4,
  "nbformat_minor": 0,
  "metadata": {
    "colab": {
      "provenance": [],
      "collapsed_sections": [
        "FPW9RwNjkV7R"
      ],
      "authorship_tag": "ABX9TyM+2bBL19prn61ooiOe+QGJ",
      "include_colab_link": true
    },
    "kernelspec": {
      "name": "python3",
      "display_name": "Python 3"
    },
    "language_info": {
      "name": "python"
    }
  },
  "cells": [
    {
      "cell_type": "markdown",
      "metadata": {
        "id": "view-in-github",
        "colab_type": "text"
      },
      "source": [
        "<a href=\"https://colab.research.google.com/github/qinalan10/cs598-patient-phenotyping/blob/master/Code/Data_Pre_Processing.ipynb\" target=\"_parent\"><img src=\"https://colab.research.google.com/assets/colab-badge.svg\" alt=\"Open In Colab\"/></a>"
      ]
    },
    {
      "cell_type": "markdown",
      "source": [
        "# Data Preprocessing - Preparing the file"
      ],
      "metadata": {
        "id": "FPW9RwNjkV7R"
      }
    },
    {
      "cell_type": "markdown",
      "source": [
        "We have 2 files - a notes data file and annotations data. We need to join the files together and create a final file for processing.\n",
        "\n",
        "1.   Read the notes file.\n",
        "2.   Read annotations file.\n",
        "3.   Join the notes file and the annotations file by hospital admission id.\n",
        "4.   Keep the relevant fields for our operation and drop the rest.\n",
        "5.   Store the final final file.\n",
        "\n"
      ],
      "metadata": {
        "id": "5ljpJtarqfXG"
      }
    },
    {
      "cell_type": "markdown",
      "source": [
        "Importing the required libraries -"
      ],
      "metadata": {
        "id": "DQSiE2tmkLoe"
      }
    },
    {
      "cell_type": "code",
      "execution_count": 1,
      "metadata": {
        "colab": {
          "base_uri": "https://localhost:8080/"
        },
        "id": "Ru6Y9Og4nThB",
        "outputId": "397499b3-dbd1-4a25-b7bf-2df310aea9c1"
      },
      "outputs": [
        {
          "output_type": "stream",
          "name": "stdout",
          "text": [
            "Mounted at /content/drive\n"
          ]
        }
      ],
      "source": [
        "# importing libaries\n",
        "from google.colab import files\n",
        "from google.colab import drive\n",
        "import pandas as pd \n",
        "import torch\n",
        "from torch.utils.data import Dataset\n",
        "from torchtext.data.utils import get_tokenizer\n",
        "from torchtext.vocab import build_vocab_from_iterator\n",
        "import re \n",
        "import numpy as np \n",
        "\n",
        "from torch.utils.data import Dataset, DataLoader\n",
        "\n",
        "from nltk.corpus import stopwords\n",
        "\n",
        "drive.mount('/content/drive')"
      ]
    },
    {
      "cell_type": "markdown",
      "source": [
        "Setting up the file path and reading the files"
      ],
      "metadata": {
        "id": "lTacm0YtklMp"
      }
    },
    {
      "cell_type": "code",
      "source": [
        "data_path = '/content/drive/MyDrive/Data/'\n",
        "notes_path = data_path + 'NOTEEVENTS.csv'\n",
        "notes_df = pd.read_csv(notes_path)\n",
        "annotations_path = data_path + 'annotations.csv'\n",
        "annotations = pd.read_csv(annotations_path)"
      ],
      "metadata": {
        "colab": {
          "base_uri": "https://localhost:8080/"
        },
        "id": "ui5Flap7klrH",
        "outputId": "6f8f227b-d514-4d7d-c03f-4c09f3c4f625"
      },
      "execution_count": 20,
      "outputs": [
        {
          "output_type": "stream",
          "name": "stderr",
          "text": [
            "<ipython-input-20-3421aeb6aca6>:3: DtypeWarning: Columns (4,5) have mixed types. Specify dtype option on import or set low_memory=False.\n",
            "  notes_df = pd.read_csv(notes_path)\n"
          ]
        }
      ]
    },
    {
      "cell_type": "markdown",
      "source": [
        "Quick look at the data."
      ],
      "metadata": {
        "id": "LIq4EbBBmZLC"
      }
    },
    {
      "cell_type": "code",
      "source": [
        "notes_df.head(1)"
      ],
      "metadata": {
        "colab": {
          "base_uri": "https://localhost:8080/",
          "height": 142
        },
        "id": "Xhk6MkOCmbY-",
        "outputId": "0ee57819-dac4-4a8a-db14-c7363703fee8"
      },
      "execution_count": 21,
      "outputs": [
        {
          "output_type": "execute_result",
          "data": {
            "text/plain": [
              "   ROW_ID  SUBJECT_ID   HADM_ID   CHARTDATE CHARTTIME STORETIME  \\\n",
              "0     174       22532  167853.0  2151-08-04       NaN       NaN   \n",
              "\n",
              "            CATEGORY DESCRIPTION  CGID  ISERROR  \\\n",
              "0  Discharge summary      Report   NaN      NaN   \n",
              "\n",
              "                                                TEXT  \n",
              "0  Admission Date:  [**2151-7-16**]       Dischar...  "
            ],
            "text/html": [
              "\n",
              "  <div id=\"df-0f959b6f-f444-43e9-8eae-7ebf50b23716\">\n",
              "    <div class=\"colab-df-container\">\n",
              "      <div>\n",
              "<style scoped>\n",
              "    .dataframe tbody tr th:only-of-type {\n",
              "        vertical-align: middle;\n",
              "    }\n",
              "\n",
              "    .dataframe tbody tr th {\n",
              "        vertical-align: top;\n",
              "    }\n",
              "\n",
              "    .dataframe thead th {\n",
              "        text-align: right;\n",
              "    }\n",
              "</style>\n",
              "<table border=\"1\" class=\"dataframe\">\n",
              "  <thead>\n",
              "    <tr style=\"text-align: right;\">\n",
              "      <th></th>\n",
              "      <th>ROW_ID</th>\n",
              "      <th>SUBJECT_ID</th>\n",
              "      <th>HADM_ID</th>\n",
              "      <th>CHARTDATE</th>\n",
              "      <th>CHARTTIME</th>\n",
              "      <th>STORETIME</th>\n",
              "      <th>CATEGORY</th>\n",
              "      <th>DESCRIPTION</th>\n",
              "      <th>CGID</th>\n",
              "      <th>ISERROR</th>\n",
              "      <th>TEXT</th>\n",
              "    </tr>\n",
              "  </thead>\n",
              "  <tbody>\n",
              "    <tr>\n",
              "      <th>0</th>\n",
              "      <td>174</td>\n",
              "      <td>22532</td>\n",
              "      <td>167853.0</td>\n",
              "      <td>2151-08-04</td>\n",
              "      <td>NaN</td>\n",
              "      <td>NaN</td>\n",
              "      <td>Discharge summary</td>\n",
              "      <td>Report</td>\n",
              "      <td>NaN</td>\n",
              "      <td>NaN</td>\n",
              "      <td>Admission Date:  [**2151-7-16**]       Dischar...</td>\n",
              "    </tr>\n",
              "  </tbody>\n",
              "</table>\n",
              "</div>\n",
              "      <button class=\"colab-df-convert\" onclick=\"convertToInteractive('df-0f959b6f-f444-43e9-8eae-7ebf50b23716')\"\n",
              "              title=\"Convert this dataframe to an interactive table.\"\n",
              "              style=\"display:none;\">\n",
              "        \n",
              "  <svg xmlns=\"http://www.w3.org/2000/svg\" height=\"24px\"viewBox=\"0 0 24 24\"\n",
              "       width=\"24px\">\n",
              "    <path d=\"M0 0h24v24H0V0z\" fill=\"none\"/>\n",
              "    <path d=\"M18.56 5.44l.94 2.06.94-2.06 2.06-.94-2.06-.94-.94-2.06-.94 2.06-2.06.94zm-11 1L8.5 8.5l.94-2.06 2.06-.94-2.06-.94L8.5 2.5l-.94 2.06-2.06.94zm10 10l.94 2.06.94-2.06 2.06-.94-2.06-.94-.94-2.06-.94 2.06-2.06.94z\"/><path d=\"M17.41 7.96l-1.37-1.37c-.4-.4-.92-.59-1.43-.59-.52 0-1.04.2-1.43.59L10.3 9.45l-7.72 7.72c-.78.78-.78 2.05 0 2.83L4 21.41c.39.39.9.59 1.41.59.51 0 1.02-.2 1.41-.59l7.78-7.78 2.81-2.81c.8-.78.8-2.07 0-2.86zM5.41 20L4 18.59l7.72-7.72 1.47 1.35L5.41 20z\"/>\n",
              "  </svg>\n",
              "      </button>\n",
              "      \n",
              "  <style>\n",
              "    .colab-df-container {\n",
              "      display:flex;\n",
              "      flex-wrap:wrap;\n",
              "      gap: 12px;\n",
              "    }\n",
              "\n",
              "    .colab-df-convert {\n",
              "      background-color: #E8F0FE;\n",
              "      border: none;\n",
              "      border-radius: 50%;\n",
              "      cursor: pointer;\n",
              "      display: none;\n",
              "      fill: #1967D2;\n",
              "      height: 32px;\n",
              "      padding: 0 0 0 0;\n",
              "      width: 32px;\n",
              "    }\n",
              "\n",
              "    .colab-df-convert:hover {\n",
              "      background-color: #E2EBFA;\n",
              "      box-shadow: 0px 1px 2px rgba(60, 64, 67, 0.3), 0px 1px 3px 1px rgba(60, 64, 67, 0.15);\n",
              "      fill: #174EA6;\n",
              "    }\n",
              "\n",
              "    [theme=dark] .colab-df-convert {\n",
              "      background-color: #3B4455;\n",
              "      fill: #D2E3FC;\n",
              "    }\n",
              "\n",
              "    [theme=dark] .colab-df-convert:hover {\n",
              "      background-color: #434B5C;\n",
              "      box-shadow: 0px 1px 3px 1px rgba(0, 0, 0, 0.15);\n",
              "      filter: drop-shadow(0px 1px 2px rgba(0, 0, 0, 0.3));\n",
              "      fill: #FFFFFF;\n",
              "    }\n",
              "  </style>\n",
              "\n",
              "      <script>\n",
              "        const buttonEl =\n",
              "          document.querySelector('#df-0f959b6f-f444-43e9-8eae-7ebf50b23716 button.colab-df-convert');\n",
              "        buttonEl.style.display =\n",
              "          google.colab.kernel.accessAllowed ? 'block' : 'none';\n",
              "\n",
              "        async function convertToInteractive(key) {\n",
              "          const element = document.querySelector('#df-0f959b6f-f444-43e9-8eae-7ebf50b23716');\n",
              "          const dataTable =\n",
              "            await google.colab.kernel.invokeFunction('convertToInteractive',\n",
              "                                                     [key], {});\n",
              "          if (!dataTable) return;\n",
              "\n",
              "          const docLinkHtml = 'Like what you see? Visit the ' +\n",
              "            '<a target=\"_blank\" href=https://colab.research.google.com/notebooks/data_table.ipynb>data table notebook</a>'\n",
              "            + ' to learn more about interactive tables.';\n",
              "          element.innerHTML = '';\n",
              "          dataTable['output_type'] = 'display_data';\n",
              "          await google.colab.output.renderOutput(dataTable, element);\n",
              "          const docLink = document.createElement('div');\n",
              "          docLink.innerHTML = docLinkHtml;\n",
              "          element.appendChild(docLink);\n",
              "        }\n",
              "      </script>\n",
              "    </div>\n",
              "  </div>\n",
              "  "
            ]
          },
          "metadata": {},
          "execution_count": 21
        }
      ]
    },
    {
      "cell_type": "code",
      "source": [
        "annotations.head(1)"
      ],
      "metadata": {
        "colab": {
          "base_uri": "https://localhost:8080/",
          "height": 145
        },
        "id": "7wMB_Ix-mg-f",
        "outputId": "41ddf6dd-ade0-40b2-e3d1-81036bb3f581"
      },
      "execution_count": 22,
      "outputs": [
        {
          "output_type": "execute_result",
          "data": {
            "text/plain": [
              "   Hospital.Admission.ID  subject.id  chart.time  cohort  Obesity  \\\n",
              "0                 118003        3644      118003       1        0   \n",
              "\n",
              "   Non.Adherence  Developmental.Delay.Retardation  Advanced.Heart.Disease  \\\n",
              "0              0                                0                       0   \n",
              "\n",
              "   Advanced.Lung.Disease  Schizophrenia.and.other.Psychiatric.Disorders  \\\n",
              "0                      0                                              0   \n",
              "\n",
              "   Alcohol.Abuse  Other.Substance.Abuse  Chronic.Pain.Fibromyalgia  \\\n",
              "0              0                      0                          1   \n",
              "\n",
              "   Chronic.Neurological.Dystrophies  Advanced.Cancer  Depression  Dementia  \\\n",
              "0                                 0                0           1         0   \n",
              "\n",
              "   Unsure  \n",
              "0       0  "
            ],
            "text/html": [
              "\n",
              "  <div id=\"df-44c8d34b-af82-43f0-b44c-ce62a750576b\">\n",
              "    <div class=\"colab-df-container\">\n",
              "      <div>\n",
              "<style scoped>\n",
              "    .dataframe tbody tr th:only-of-type {\n",
              "        vertical-align: middle;\n",
              "    }\n",
              "\n",
              "    .dataframe tbody tr th {\n",
              "        vertical-align: top;\n",
              "    }\n",
              "\n",
              "    .dataframe thead th {\n",
              "        text-align: right;\n",
              "    }\n",
              "</style>\n",
              "<table border=\"1\" class=\"dataframe\">\n",
              "  <thead>\n",
              "    <tr style=\"text-align: right;\">\n",
              "      <th></th>\n",
              "      <th>Hospital.Admission.ID</th>\n",
              "      <th>subject.id</th>\n",
              "      <th>chart.time</th>\n",
              "      <th>cohort</th>\n",
              "      <th>Obesity</th>\n",
              "      <th>Non.Adherence</th>\n",
              "      <th>Developmental.Delay.Retardation</th>\n",
              "      <th>Advanced.Heart.Disease</th>\n",
              "      <th>Advanced.Lung.Disease</th>\n",
              "      <th>Schizophrenia.and.other.Psychiatric.Disorders</th>\n",
              "      <th>Alcohol.Abuse</th>\n",
              "      <th>Other.Substance.Abuse</th>\n",
              "      <th>Chronic.Pain.Fibromyalgia</th>\n",
              "      <th>Chronic.Neurological.Dystrophies</th>\n",
              "      <th>Advanced.Cancer</th>\n",
              "      <th>Depression</th>\n",
              "      <th>Dementia</th>\n",
              "      <th>Unsure</th>\n",
              "    </tr>\n",
              "  </thead>\n",
              "  <tbody>\n",
              "    <tr>\n",
              "      <th>0</th>\n",
              "      <td>118003</td>\n",
              "      <td>3644</td>\n",
              "      <td>118003</td>\n",
              "      <td>1</td>\n",
              "      <td>0</td>\n",
              "      <td>0</td>\n",
              "      <td>0</td>\n",
              "      <td>0</td>\n",
              "      <td>0</td>\n",
              "      <td>0</td>\n",
              "      <td>0</td>\n",
              "      <td>0</td>\n",
              "      <td>1</td>\n",
              "      <td>0</td>\n",
              "      <td>0</td>\n",
              "      <td>1</td>\n",
              "      <td>0</td>\n",
              "      <td>0</td>\n",
              "    </tr>\n",
              "  </tbody>\n",
              "</table>\n",
              "</div>\n",
              "      <button class=\"colab-df-convert\" onclick=\"convertToInteractive('df-44c8d34b-af82-43f0-b44c-ce62a750576b')\"\n",
              "              title=\"Convert this dataframe to an interactive table.\"\n",
              "              style=\"display:none;\">\n",
              "        \n",
              "  <svg xmlns=\"http://www.w3.org/2000/svg\" height=\"24px\"viewBox=\"0 0 24 24\"\n",
              "       width=\"24px\">\n",
              "    <path d=\"M0 0h24v24H0V0z\" fill=\"none\"/>\n",
              "    <path d=\"M18.56 5.44l.94 2.06.94-2.06 2.06-.94-2.06-.94-.94-2.06-.94 2.06-2.06.94zm-11 1L8.5 8.5l.94-2.06 2.06-.94-2.06-.94L8.5 2.5l-.94 2.06-2.06.94zm10 10l.94 2.06.94-2.06 2.06-.94-2.06-.94-.94-2.06-.94 2.06-2.06.94z\"/><path d=\"M17.41 7.96l-1.37-1.37c-.4-.4-.92-.59-1.43-.59-.52 0-1.04.2-1.43.59L10.3 9.45l-7.72 7.72c-.78.78-.78 2.05 0 2.83L4 21.41c.39.39.9.59 1.41.59.51 0 1.02-.2 1.41-.59l7.78-7.78 2.81-2.81c.8-.78.8-2.07 0-2.86zM5.41 20L4 18.59l7.72-7.72 1.47 1.35L5.41 20z\"/>\n",
              "  </svg>\n",
              "      </button>\n",
              "      \n",
              "  <style>\n",
              "    .colab-df-container {\n",
              "      display:flex;\n",
              "      flex-wrap:wrap;\n",
              "      gap: 12px;\n",
              "    }\n",
              "\n",
              "    .colab-df-convert {\n",
              "      background-color: #E8F0FE;\n",
              "      border: none;\n",
              "      border-radius: 50%;\n",
              "      cursor: pointer;\n",
              "      display: none;\n",
              "      fill: #1967D2;\n",
              "      height: 32px;\n",
              "      padding: 0 0 0 0;\n",
              "      width: 32px;\n",
              "    }\n",
              "\n",
              "    .colab-df-convert:hover {\n",
              "      background-color: #E2EBFA;\n",
              "      box-shadow: 0px 1px 2px rgba(60, 64, 67, 0.3), 0px 1px 3px 1px rgba(60, 64, 67, 0.15);\n",
              "      fill: #174EA6;\n",
              "    }\n",
              "\n",
              "    [theme=dark] .colab-df-convert {\n",
              "      background-color: #3B4455;\n",
              "      fill: #D2E3FC;\n",
              "    }\n",
              "\n",
              "    [theme=dark] .colab-df-convert:hover {\n",
              "      background-color: #434B5C;\n",
              "      box-shadow: 0px 1px 3px 1px rgba(0, 0, 0, 0.15);\n",
              "      filter: drop-shadow(0px 1px 2px rgba(0, 0, 0, 0.3));\n",
              "      fill: #FFFFFF;\n",
              "    }\n",
              "  </style>\n",
              "\n",
              "      <script>\n",
              "        const buttonEl =\n",
              "          document.querySelector('#df-44c8d34b-af82-43f0-b44c-ce62a750576b button.colab-df-convert');\n",
              "        buttonEl.style.display =\n",
              "          google.colab.kernel.accessAllowed ? 'block' : 'none';\n",
              "\n",
              "        async function convertToInteractive(key) {\n",
              "          const element = document.querySelector('#df-44c8d34b-af82-43f0-b44c-ce62a750576b');\n",
              "          const dataTable =\n",
              "            await google.colab.kernel.invokeFunction('convertToInteractive',\n",
              "                                                     [key], {});\n",
              "          if (!dataTable) return;\n",
              "\n",
              "          const docLinkHtml = 'Like what you see? Visit the ' +\n",
              "            '<a target=\"_blank\" href=https://colab.research.google.com/notebooks/data_table.ipynb>data table notebook</a>'\n",
              "            + ' to learn more about interactive tables.';\n",
              "          element.innerHTML = '';\n",
              "          dataTable['output_type'] = 'display_data';\n",
              "          await google.colab.output.renderOutput(dataTable, element);\n",
              "          const docLink = document.createElement('div');\n",
              "          docLink.innerHTML = docLinkHtml;\n",
              "          element.appendChild(docLink);\n",
              "        }\n",
              "      </script>\n",
              "    </div>\n",
              "  </div>\n",
              "  "
            ]
          },
          "metadata": {},
          "execution_count": 22
        }
      ]
    },
    {
      "cell_type": "code",
      "source": [
        "hamd = pd.merge(annotations, notes_df, how = 'inner', left_on = ['Hospital.Admission.ID', 'subject.id'], right_on = ['HADM_ID', 'SUBJECT_ID'])\n",
        "discharges = hamd[(hamd.CATEGORY == 'Discharge summary') & (hamd.DESCRIPTION == 'Report')]\n",
        "discharges = hamd[(hamd.CATEGORY == 'Discharge summary') & (hamd.DESCRIPTION == 'Report')]#['DESCRIPTION'].unique()\n",
        "discharges.head(2)\n",
        "x = discharges[['Obesity', 'Non.Adherence', 'Developmental.Delay.Retardation',\n",
        "        'Advanced.Heart.Disease',  'Advanced.Lung.Disease',\n",
        "        'Schizophrenia.and.other.Psychiatric.Disorders', 'Alcohol.Abuse',\n",
        "        'Other.Substance.Abuse', 'Chronic.Pain.Fibromyalgia',\n",
        "        'Chronic.Neurological.Dystrophies', 'Advanced.Cancer', 'Depression',\n",
        "        'Dementia', 'Unsure', 'TEXT']]\n",
        "x.drop_duplicates(inplace = True)\n",
        "x.drop_duplicates(subset = ['TEXT'], keep = 'first', inplace = True)"
      ],
      "metadata": {
        "colab": {
          "base_uri": "https://localhost:8080/"
        },
        "id": "m5FsiDQgk49T",
        "outputId": "b67a6f46-c9d0-4ed8-eede-d666f1e2a3c7"
      },
      "execution_count": 23,
      "outputs": [
        {
          "output_type": "stream",
          "name": "stderr",
          "text": [
            "<ipython-input-23-f04f5ecaedbc>:11: SettingWithCopyWarning: \n",
            "A value is trying to be set on a copy of a slice from a DataFrame\n",
            "\n",
            "See the caveats in the documentation: https://pandas.pydata.org/pandas-docs/stable/user_guide/indexing.html#returning-a-view-versus-a-copy\n",
            "  x.drop_duplicates(inplace = True)\n",
            "<ipython-input-23-f04f5ecaedbc>:12: SettingWithCopyWarning: \n",
            "A value is trying to be set on a copy of a slice from a DataFrame\n",
            "\n",
            "See the caveats in the documentation: https://pandas.pydata.org/pandas-docs/stable/user_guide/indexing.html#returning-a-view-versus-a-copy\n",
            "  x.drop_duplicates(subset = ['TEXT'], keep = 'first', inplace = True)\n"
          ]
        }
      ]
    },
    {
      "cell_type": "markdown",
      "source": [],
      "metadata": {
        "id": "6YY4UgMZlvDq"
      }
    },
    {
      "cell_type": "code",
      "source": [
        "final_file_path = data_path + 'final_file.csv'\n",
        "x.to_csv(final_file_path)"
      ],
      "metadata": {
        "id": "yftyVQIZlvjW"
      },
      "execution_count": 24,
      "outputs": []
    },
    {
      "cell_type": "markdown",
      "source": [
        "Read the final file and look at the notes data for few patients."
      ],
      "metadata": {
        "id": "acACeS0TpR69"
      }
    },
    {
      "cell_type": "code",
      "source": [
        "final_file_df = pd.read_csv(final_file_path)\n",
        "final_file_df.drop('Unnamed: 0', axis=1, inplace=True)\n",
        "final_file_df.head()\n"
      ],
      "metadata": {
        "colab": {
          "base_uri": "https://localhost:8080/",
          "height": 157
        },
        "id": "6YWUTbzXpSXy",
        "outputId": "297e23d6-c385-4711-a4b2-64baeb1dd45d"
      },
      "execution_count": 27,
      "outputs": [
        {
          "output_type": "execute_result",
          "data": {
            "text/plain": [
              "\"Admission Date:  [**2200-4-7**]     Discharge Date:  [**2200-4-10**]\\n\\nDate of Birth:   [**2146-9-21**]     Sex:  F\\n\\nService:  CARDIAC INTENSIVE CARE MEDICINE\\n\\nCHIEF COMPLAINT:  The patient was admitted to the Cardiac\\nIntensive Care Unit Medicine Service on [**2200-4-7**], with the\\nchief complaint of acute myocardial infarction and fever.\\n\\nHISTORY OF PRESENT ILLNESS:  The patient is a 53 year old\\nwhite female with a history of coronary artery disease,\\nhypertension, hypercholesterolemia and two pack per day\\ntobacco use with previous coronary artery bypass graft\\nsurgery presenting to an outside hospital on [**2200-4-6**], with a\\ntwo day history of fevers and confusion.  The patient had a\\nCT scan of the chest at that time which revealed pneumonia by\\nreport in the left lower lobe.\\n\\nWhile in the outside hospital Emergency Department, the\\npatient complained of chest pain.  The patient states that\\nshe has had this pain for approximately two weeks with no\\nrelief.  She was given Levofloxacin for apparent community\\nacquired pneumonia and cardiac enzymes were cycled.  The\\npatient was found to have a troponin of 3.98 which rose to\\n6.10 as well as CK MBs of 17.3 and 15.2 but no CPKs were\\nrecorded.  The patient's white blood cell count at that time\\nwas 20.6.  The patient received Lovenox and Aspirin and was\\ntransferred to the Cardiac Intensive Care Unit at [**Hospital1 346**] for further management.\\n\\nOf note, the patient's husband reports that she possibly took\\napproximately 17 tablets of 300 mg of Neurontin in the five\\ndays prior to admission.\\n\\nPAST MEDICAL HISTORY:\\n1.  Coronary artery disease, status post coronary artery\\n    bypass graft.\\n2.  Hypertension.\\n3.  Elevated cholesterol.\\n4.  Chronic low back pain.\\n5.  Bronchitis.\\n6.  Question of liver disease.\\n7.  Gastroesophageal reflux disease.\\n8.  Depression.\\n\\nALLERGIES:  Nitroglycerin produces significant decrease in\\nblood pressure.  Tape and bee stings.\\n\\nMEDICATIONS ON ADMISSION:\\n1.  Robaxin 750 mg two tablets q4hours p.r.n.\\n2.  Alprazolam 1.5 mg q.i.d.\\n3.  Lipitor 80 mg p.o. q.d.\\n4.  Gemfibrozil 600 mg b.i.d.\\n5.  Zoloft 150 mg q.d.\\n6.  Prilosec 20 mg q.d.\\n7.  Trazodone 150 mg q.h.s.\\n8.  Duragesic patch 100 mcg q72hours.\\n9.  Enteric Coated Aspirin 81 mg q.d.\\n10. Vancenase inhaler p.r.n.\\n11. Oxycodone 10 mg q4hours p.r.n.\\n12. Neurontin 300 mg p.o. b.i.d. to t.i.d.\\n\\nSOCIAL HISTORY:  The patient smokes two packs per day of\\ntobacco and drinks alcohol socially.  She is married and\\nlives with her husband.\\n\\nFAMILY HISTORY:  Notable for positive coronary artery disease\\nalthough no further or more specific history could be\\nobtained.\\n\\nPHYSICAL EXAMINATION:  On admission, the patient's vital\\nsigns were as follows:  Temperature 98.2, pulse 83,\\nrespiratory rate 17, blood pressure 89/50 with a mean of 67,\\noxygen saturation 98% on nonrebreather.  Of note, the patient\\nstates that her blood pressure usually runs between 80 and 90\\nsystolic.  In general, the patient was alert although had\\ndifficulty remembering and formulating thoughts.  Head, eyes,\\nears, nose and throat examination - The pupils are equal,\\nround, and reactive to light and accommodation.  Extraocular\\nmovements are intact.  Sclera anicteric.  Conjunctivae pink.\\nSlight jaundice and pallor.  The neck was supple with no\\nlymphadenopathy.  The lungs demonstrate coarse rhonchi,\\nquestion of upper airway sounds transmitted to the anterior\\nand midaxillary line.  Cardiovascular regular rate and\\nrhythm, S1 and S2, no murmurs, rubs or gallops.  The abdomen\\nwas soft, nontender, nondistended, with normoactive bowel\\nsounds.  The extremities were warm, 2+ dorsalis pedis pulses\\nbilaterally.  No edema.  Femoral pulses 2+, no bruits.\\nRectal examination was guaiac negative per Emergency\\nDepartment report at the outside hospital.\\n\\nLABORATORY DATA:  From the outside hospital, white count 20.6\\nwith 89 neutrophils, 1 band, 5 lymphocytes, 4 monocytes,\\nhematocrit 38.2, platelets 222, MCV 94.9.  Sodium 138,\\npotassium 4.1, chloride 98, bicarbonate 37, blood urea\\nnitrogen 16, creatinine 0.7, glucose 111.  Prothrombin time\\n12.3, partial thromboplastin time 28.9, INR 1.05.  As\\npreviously mentioned, troponin was 3.98 and 6.10 as well as\\nCK MBs of 17.3 and 15.2 although no CPKs obtainable.  Albumin\\n3.4, total protein 6.5, alkaline phosphatase 148, AST 109,\\nALT 25, total bilirubin 0.3, calcium 8.9.  Urinalysis was\\nnotable for urine protein of 30.\\n\\nElectrocardiogram showed normal sinus rhythm with a rate of\\n88 beats per minute.  Q-Tc 443, normal axis.  ST elevations\\nin leads III, aVF, ST depressions in leads I, aVL and V1\\nthrough V3 with a Q wave in lead III.\\n\\nChest x-ray showed no infiltrate and no pulmonary edema\\nalthough CT scan did show some question of a left lower lobe\\ninfiltrate not seen on chest x-ray.\\n\\nHOSPITAL COURSE:  The patient was admitted for management of\\nconfusion, fever, elevated white count, chest pain, and\\nquestion of myocardial infarction in the setting of coronary\\nartery disease, status post coronary artery bypass graft four\\nyears prior.  CKs were cycled.  The patient was held NPO and\\nfamily members were [**Name (NI) 653**].  The patient was continued on\\nLevofloxacin as started at the outside hospital and given\\ninhalers p.r.n.\\n\\nA psychiatry consultation was obtained on the morning of\\n[**2200-4-7**], given the patient's significant degree of\\ndisorientation and confusion and labile emotions.  The\\npsychiatrist's impression was that the patient was suffering\\nfrom delirium with waxing and [**Doctor Last Name 688**] mental status\\nexamination with poor memory.  At the time of the interview,\\nthe patient was agreeing to consider catheterization although\\nit was noted that if she changed her mind given the\\nimportance of this procedure that her husband and children\\nshould be [**Doctor Last Name 653**] regarding consent for the procedure and\\nthat her capacity to consent at that time should be held in\\nquestion.  Recommendations were made for Haldol p.r.n. as\\nwell as Xanax.  B12, folate, RPR and TSH were all ordered\\nwhich returned as normal.  The patient also had a head CT at\\nthe outside hospital which was unremarkable.\\n\\nCKs were sent at our hospital with initial level of CPK 464,\\nMB 12 and a troponin of 49 obtained.  The patient had been\\nplaced on Heparin prior to the anticipation of cardiac\\ncatheterization. The patient was initially consented to have\\ncardiac catheterization on [**2200-4-7**], although had an acute\\ndecompensation in mental status and anxiety attack and it was\\ndetermined that she would be at high risk for the procedure\\nat that time.  Thus, the procedure was deferred to the\\nmorning of [**2200-4-8**], and findings were as follows:\\n\\nLeft ventricular ejection fraction 62%.  Inferior\\nhypokinesis.  Normal valves.  Discrete proximal right\\ncoronary artery lesion of 100% stenosis.  Left main 100%\\ndiscrete stenosis.  Mid left anterior descending discrete\\n100% stenosis, 50% discrete midcircumflex stenosis.  Bypass\\ngraft saphenous vein graft to the right coronary artery was\\n100% discrete stenosis.  Left internal mammary artery to the\\nleft anterior descending patent and RIMA to the right\\ncoronary artery with a 40% stenosis.  No intervention was\\nperformed.\\n\\nIt was determined that the patient should be maximized on\\nmedical therapy only.  The patient was prescribed with\\nAspirin and Plavix at that time and given diuresis for\\nincreasing oxygen requirement.  The patient returned to the\\nfloor in stable condition and was to the Step-Down Cardiac\\nUnit on [**2200-4-8**].  The patient returned to baseline mental\\nstatus throughout the remainder of her hospital stay and was\\ndetermined to be in stable condition by [**2200-4-10**], to be\\ndischarged.  The patient was in agreement with this plan.\\n\\nDISCHARGE DIAGNOSES:\\n1.  Coronary artery disease, status post coronary artery\\n    bypass graft in [**2195**], now with occluded saphenous vein\\n    graft to be medically managed.\\n2.  Hypertension.\\n3.  Elevated cholesterol.\\n4.  Chronic low back pain.\\n5.  Bronchitis with possible acute pneumonia.\\n6.  Gastroesophageal reflux disease.\\n7.  Depression.\\n\\nDISCHARGE MEDICATIONS:\\n1.  Levofloxacin 500 mg p.o. q.d. times nine days to complete\\n    a fourteen day course.\\n2.  Plavix 75 mg one p.o. q.d.\\n3.  Colace 100 mg p.o. b.i.d. p.r.n. for constipation.\\n4.  Neutra-Phos one packet p.o. b.i.d. times thirty days.\\n5.  Prilosec 20 mg p.o. q.d.\\n6.  Enteric Coated Aspirin 325 mg p.o. q.d.\\n7.  Zoloft 150 mg p.o. q.d.\\n8.  Lipitor 80 mg p.o. q.d.\\n9.  Trazodone 150 mg p.o. q.h.s.\\n10. Fentanyl patch 100 mcg transdermal every three days.\\n11. Atrovent inhaler two puffs b.i.d.\\n12. Tylenol #3 p.r.n.\\n13. Alprazolam 1.5 mg p.o. q.i.d. p.r.n.\\n14. Gemfibrozil 600 mg p.o. q.d.\\n15. Neurontin 300 mg p.o. t.i.d.\\n\\nThe patient was to follow-up with her regular cardiologist,\\nDr [**First Name8 (NamePattern2) **] [**Last Name (NamePattern1) **], in one to two weeks after discharge.\\nConsideration is to be made in the future as to whether or\\nnot the patient's blood pressure can tolerate addition of\\neither an ace inhibitor or a beta blocker to her medical\\nregimen for mortality benefit.\\n\\n\\n\\n\\n                          [**First Name8 (NamePattern2) 2206**] [**First Name4 (NamePattern1) **] [**Last Name (NamePattern1) **], M.D.  [**MD Number(1) 18924**]\\n\\nDictated By:[**Last Name (NamePattern1) 7118**]\\n\\nMEDQUIST36\\n\\nD:  [**2200-4-10**]  12:15\\nT:  [**2200-4-12**]  08:50\\nJOB#:  [**Job Number 18925**]\\n\""
            ],
            "application/vnd.google.colaboratory.intrinsic+json": {
              "type": "string"
            }
          },
          "metadata": {},
          "execution_count": 27
        }
      ]
    },
    {
      "cell_type": "code",
      "source": [
        "final_file_df[\"TEXT\"][1]"
      ],
      "metadata": {
        "colab": {
          "base_uri": "https://localhost:8080/",
          "height": 157
        },
        "id": "PWFEQ3ydpoKq",
        "outputId": "40422499-1583-40e4-83f4-625dad93fa55"
      },
      "execution_count": 29,
      "outputs": [
        {
          "output_type": "execute_result",
          "data": {
            "text/plain": [
              "\"Admission Date:  [**2107-2-13**]              Discharge Date:   [**2107-2-15**]\\n\\nDate of Birth:  [**2076-8-17**]             Sex:   M\\n\\nService: MEDICINE\\n\\nAllergies:\\nceclor / compazine\\n\\nAttending:[**Known firstname 2751**]\\nChief Complaint:\\nAbdominal pain\\n\\nMajor Surgical or Invasive Procedure:\\nNone\\n\\nHistory of Present Illness:\\nThis is a 30 year old male with PMH of barrett's esophagous s/p\\nnissen fundoplication in [**2093**], emergent splenectomy in [**2099**] s/p\\nsnow boarding accident, metastatic soft tissue fibrosarcoma s/p\\nsmall bowel resection in [**2104**] at [**Hospital1 2025**], started chemo in [**Month (only) **]\\nwith transition to temador chemotherapy (last dose during first\\nweek of [**Month (only) **]), who presents with fevers to 102, crampy\\nabdominal pain, and watery, nonbloody diarrhea.\\n.\\nTwo-three weeks prior to admission, patient originally admitted\\nto [**Hospital1 18**] [**Location (un) 620**] with fevers, abdominal pain, and watery\\ndiarrhea.  Found to be c. diff positive, initially treated with\\nPO vanco and IV flagyl X 2 days before he was transferred to\\n[**Hospital1 2025**], the location of most of his care.  At [**Hospital1 2025**], he was treated\\nwith flagyl monotherapy and discharged with instructions to\\ncomplete 10 day course of flagyl, which he completed 5 days\\nprior.  He had full resolution of his symptoms with good PO\\nintake, until this morning, when he developed fevers to 102,\\ncrampy abdominal pain, and watery diarrhea similar to his prior\\npresentation.  He denies any recent travel, sick contacts.\\n.\\nOf note, patient sees Dr. [**Last Name (STitle) 12262**] at [**Hospital1 2025**] for his oncologic care\\nand reports receiving temador chemotherapy during the first week\\nof [**Month (only) **].  During his prior admission, patient also found to\\nhave a clot in his right jugular vein and started on coumadin as\\nan outpatient.\\n.\\nIn the ED, initial vitals were T: 101.8, BP: 108/73, HR: 123,\\nRR: 18, O2sat: 100% on 2L.  Labs notable for leukocytosis of\\n23.8, plt of 602, lactate of 1.6, INR of 3.1.  ECG demonstrated\\nsinus tachycardia with rate of 121 and without signs of\\nischemia.  Guiac positive.  CT abdomen with contrast\\ndemonstrated colitis and multiple mesenteric masses and right\\npararenal mass consistent with patient's history of low-grade\\nfibrosarcoma.  At [**Hospital1 18**] [**Location (un) 620**], patient was given flagyl 500mg\\nIV X 1, toradol 30mg IV X 1, and 1 gram tylenol PO X 1.  On\\narrival to [**Hospital1 18**], patient was given vancomycin 500mg PO X 1,\\nmorphine 4mg IV X 1, 1mg ativan IV X 1 for rigors, 600mg motrin\\nPO X 1 and tylenol 1gram PO X 1.  Was given 3L NS.\\n\\n\\nPast Medical History:\\n- barrett's esophagous s/p nissen fundoplication in [**2093**] at\\n[**Hospital3 1810**] [**Location (un) 86**]\\n- emergent splenectomy in [**2099**] s/p snow boarding accident\\n- metastatic soft tissue fibrosarcoma s/p small bowel resection\\nin [**2104**].  Oncologist at [**Hospital1 2025**] is Dr. [**Last Name (STitle) 12262**].  S/p temador\\nchemotherapy during the first week of [**2106-12-13**].\\n- right IJ clot [**3-16**] port, on coumadin\\n\\n\\nSocial History:\\nDenies any smoking history.  Consumes on average 3 drinks per\\nweek.\\n\\n\\nFamily History:\\nEndorses history of strokes in his family.\\n\\nPhysical Exam:\\nVS: Temp: 102, BP: 107/65, HR: 108, RR: 20, 98% RA\\nGEN: anxious, diaphoretic\\nHEENT: PERRL, EOMI, anicteric, dry mucous membranes.  No\\nsupraclavicular or cervical lymphadenopathy, no jvd, no carotid\\nbruits, no thyromegaly or thyroid nodules\\nRESP: CTA b/l with good air movement throughout\\nCV: tachycardic, S1 and S2 wnl, no m/r/g\\nABD: Midline vertical scar from prior surgeries.  +BS in all 4\\nquadrants.  Tender diffusely to deep palpation.  No g/r/r.\\nEXT: no c/c/e\\nSKIN: Right sided port.  No rashes/no jaundice/no splinters\\nNEURO: AAOx3. Cn II-XII intact. 5/5 strength throughout. No\\nsensory deficits to light touch appreciated. No pass-pointing on\\nfinger to nose. 2+DTR's-patellar and biceps\\nSTOOL: Guiac positive.\\n\\n\\nPertinent Results:\\nLabs on Admission:\\n[**2107-2-13**] 04:57PM URINE  HOURS-RANDOM\\n[**2107-2-13**] 04:57PM URINE  UHOLD-HOLD\\n[**2107-2-13**] 12:20PM URINE  HOURS-RANDOM\\n[**2107-2-13**] 12:20PM URINE  GR HOLD-HOLD\\n[**2107-2-13**] 12:20PM URINE  COLOR-Straw APPEAR-Clear SP [**Last Name (un) 155**]-1.013\\n[**2107-2-13**] 12:20PM URINE  BLOOD-NEG NITRITE-NEG PROTEIN-NEG\\nGLUCOSE-NEG KETONE-NEG BILIRUBIN-NEG UROBILNGN-NEG PH-8.0\\nLEUK-NEG\\n[**2107-2-13**] 11:16AM   COMMENTS-GREEN TOP\\n[**2107-2-13**] 11:16AM   LACTATE-1.6\\n[**2107-2-13**] 11:00AM   GLUCOSE-99 UREA N-12 CREAT-0.9 SODIUM-138\\nPOTASSIUM-3.9 CHLORIDE-101 TOTAL CO2-24 ANION GAP-17\\n[**2107-2-13**] 11:00AM   estGFR-Using this\\n[**2107-2-13**] 11:00AM   ALT(SGPT)-97* AST(SGOT)-48* ALK PHOS-72 TOT\\nBILI-0.6\\n[**2107-2-13**] 11:00AM   LIPASE-29\\n[**2107-2-13**] 11:00AM   WBC-23.8* RBC-4.38* HGB-13.3* HCT-38.1*\\nMCV-87 MCH-30.3 MCHC-34.8 RDW-15.3\\n[**2107-2-13**] 11:00AM   NEUTS-86.6* LYMPHS-5.5* MONOS-7.4 EOS-0.1\\nBASOS-0.5\\n[**2107-2-13**] 11:00AM   PLT COUNT-602*\\n[**2107-2-13**] 11:00AM   PT-30.8* PTT-33.9 INR(PT)-3.1*\\n\\nLabs on Discharge:\\n[**2107-2-15**] 06:25AM BLOOD WBC-7.7# RBC-4.22* Hgb-12.8* Hct-37.6*\\nMCV-89 MCH-30.4 MCHC-34.1 RDW-15.6* Plt Ct-571*\\n[**2107-2-15**] 06:25AM BLOOD Neuts-53 Bands-0 Lymphs-23 Monos-17*\\nEos-0 Baso-0 Atyps-6* Metas-0 Myelos-1*\\n[**2107-2-15**] 06:25AM BLOOD Glucose-100 UreaN-4* Creat-0.7 Na-139\\nK-3.4 Cl-103 HCO3-28 AnGap-11\\n[**2107-2-15**] 06:25AM BLOOD ALT-60* AST-30 LD(LDH)-152 AlkPhos-60\\nTotBili-0.3\\n[**2107-2-15**] 06:25AM BLOOD Mg-1.9\\n\\nEKG: ECG demonstrated sinus tachycardia with rate of 121 and\\nwithout signs of ischemia.  Normal axis, normal intervals.\\n.\\nImaging:\\n.\\n[**2107-2-13**]: Chest radiograph ([**Hospital1 18**] [**Location (un) 620**]): No acute\\ncardiopulmonary process.\\n.\\n[**2107-2-13**]: CT Abdomen/Pelvis with Contrast ([**Hospital1 18**]): PRELIM READ:\\n1. mildly thickened colonic wall may represent resolving\\ninfectious colitis\\n2. multiple mesenteric masses and R pararenal mass c/w pt's hx\\nof low-grade fibrosarcoma\\n\\n\\nBrief Hospital Course:\\n#. Fever/abdominal pain/diarrhea: In lieu of recent hospital\\ndischarge from [**Hospital1 2025**] for c. diff infection and recurrence of\\nsymptoms with cessation of flagyl therapy, symptoms most\\nconsistent with recurrent c. diff infection.  CT abdomen with\\nevidence of colitis but without other nidus for infection. C\\nDiff toxin returned positive which , given his symptoms, is\\nconsistent with a relapse of his prior infection. He was started\\non PO vancomycin and IV flagyl in the ICU. He remained afebrile\\nand his abdominal pain resolved. Initially a fever workup was\\nstarted given his asplenia and blood cultures revealed no growht\\nto date in the hospital. Stool cultures did not reveal any of\\nCAMPYLOBACTER, O&P, VIBRIO, YERSINIA, OR E. COLI 0157:H7. The\\npatient was ultimately discharged on a total 14 days course of\\nPO Vanomycin and PO Metronidazole.  Major risk for initial C.\\nDiff infection is chemo and PPI therapy, and major risk for\\nrecurrent severe C. Diff colitis is PPI therapy during first\\ntreatment course.  Consideration to be given by PCP for\\ndiscontinuation of PPI if can tolerate.\\n.\\n#. Tachycardia: Likely secondary to underlying infection and\\nhypovolemia secondary to diarrhea. Responded to IV\\nresuscitation. HR on discharge was in the 80s.\\n.\\n#. Leukocytosis: Likely secondary to underlying infection as\\nabove.  Trended down to 7.7 upon discharge with antibiotics\\n.\\n#. Metastatic Fibrosarcoma: CT abd/pelvis demonstrates multiple\\nmesenteric masses and R pararenal mass. Patient will follow up\\nwith his outpatient oncologist and will have CT scan on CD to\\nshow his doctor at his next outpatient appt.\\n.\\n#. Right IJ Clot: secondary to intervention during last\\nhospitalization.  Patient on coumadin as an outpatient which was\\nheld initially as INR was supratherapeutic and patient was\\nstarted on abx. INR prior to d/c was 2. He will follow up with\\nhis outpatient providers to have INR monitoring while on\\nantibiotics.\\n.\\n#. Asplenia: fully vaccinated as outpatient. Unclear if has\\nprophylactic abx prescription at home but did not take it when\\nhe was febrile prior to admission. Will need f/u with PCP\\n[**Last Name (NamePattern4) **]:antibiotics for ppx in the future. Fever workup as above\\nrevealed no source other than C. Diff for infection.\\n.\\n#. Barrett's Esophagous: Stable, continued home PO PPI, though\\nconsideration for discontinuing this should be given since PPI\\ndon't affect transformation of Barrett's epithelium into\\nadenoca.\\n.\\n#. Code: Full\\n.\\n#. Outstanding Labs for follow-up:\\n[**2106-2-13**] MRSA Screen - PND\\n[**2106-2-13**] Blood Culture - PND\\n.\\n#. Active Issues on Discharge:\\n- Metastatic Fibrosarcoma (continued treatment per O/P\\noncologist)\\n- Reccurence of C. Diff (to discuss with PCP the need for\\nfurther PPI therapy)\\n- Transaminitis (Patient found on discharge to have a slighly\\nelevated ALT, with remaining liver enzymes WNL; encouraged PCP\\nf/u for further eval as needed).\\n\\nMedications on Admission:\\n- coumadin 7mg Monday, Thursday, Sat\\n- coumadin 6.5mg Tues, Wed, [**Last Name (LF) 2974**], [**First Name3 (LF) 1017**]\\n- prilosec 40mg PO BID\\n\\n\\nDischarge Medications:\\n1. vancomycin 250 mg Capsule Sig: Two (2) Capsule PO every six\\n(6) hours for 13 days.\\nDisp:*104 Capsule(s)* Refills:*0*\\n2. Prilosec 40 mg Capsule, Delayed Release(E.C.) Sig: One (1)\\nCapsule, Delayed Release(E.C.) PO twice a day.\\n3. metronidazole 500 mg Tablet Sig: One (1) Tablet PO every\\neight (8) hours for 13 days.\\nDisp:*39 Tablet(s)* Refills:*0*\\n4. warfarin 5 mg Tablet Sig: One (1) Tablet PO once a day:\\nPlease use 5 mg tablet in combination with 1 mg tablets to\\ncreate the appropriate warfarin dosing per your anticoagulation\\nnurses.\\nDisp:*30 Tablet(s)* Refills:*2*\\n5. warfarin 1 mg Tablet Sig: One (1) Tablet PO once a day:\\nPlease use 5 mg tablet in combination with 1 mg tablets to\\ncreate the appropriate warfarin dosing per your anticoagulation\\nnurses.\\nDisp:*30 Tablet(s)* Refills:*2*\\n\\n\\nDischarge Disposition:\\nHome\\n\\nDischarge Diagnosis:\\nPrimary Diagnosis:\\n- Clostridium Difficile Colitis\\n\\n\\nDischarge Condition:\\nMental Status: Clear and coherent.\\nLevel of Consciousness: Alert and interactive.\\nActivity Status: Ambulatory - Independent.\\n\\n\\nDischarge Instructions:\\nMr. [**Known lastname 12263**], you were admitted to the hospital because you had\\nan infection of your gastrointestinal tract known as Clostridium\\nDifficile. You have had this infection before in the past, and\\non your current admision you were started on two different\\nantibiotics to help treat Clostridium Difficile.\\n\\nWhen you leave the hospital:\\n1. START taking Vancomycin 500 mg every 6 hours for the next 8\\ndays\\n2. START taking Metronidazole 500 mg every 8 hours for the next\\n8 days\\n\\nPlease continue taking your other medications as you normally\\ndo. Please follow-up with your anticoagulation nurses to\\ndetermine your optimal dosing of warfarin\\n\\nFollowup Instructions:\\nName: [**Last Name (LF) **],[**First Name3 (LF) **] M.\\nAddress: [**Last Name (un) 12264**] 555 WACC, [**Location (un) **],[**Numeric Identifier 10614**]\\nPhone: [**Telephone/Fax (1) 12265**]\\nAppointment: [**Telephone/Fax (1) 2974**] [**2107-2-18**] 11:45am\\n\\nName: [**Last Name (LF) **],[**Name8 (MD) **] MD\\nAddress: [**Street Address(2) 12266**], [**Location (un) **],[**Numeric Identifier 718**]\\nPhone: [**Telephone/Fax (1) 12267**]\\nAppointment: Thursday [**2107-2-17**] 1:40pm for lab work\\n2:40pm with Dr. [**Last Name (STitle) 12262**].\\n\\n\\n\\n\""
            ],
            "application/vnd.google.colaboratory.intrinsic+json": {
              "type": "string"
            }
          },
          "metadata": {},
          "execution_count": 29
        }
      ]
    },
    {
      "cell_type": "code",
      "source": [
        "final_file_df[\"TEXT\"][100]"
      ],
      "metadata": {
        "colab": {
          "base_uri": "https://localhost:8080/",
          "height": 157
        },
        "id": "NwgtlbhYqNWx",
        "outputId": "98661c5c-5409-43ff-a546-f7673e15159c"
      },
      "execution_count": 31,
      "outputs": [
        {
          "output_type": "execute_result",
          "data": {
            "text/plain": [
              "\"Admission Date:  [**2133-2-16**]              Discharge Date:   [**2133-2-26**]\\n\\nDate of Birth:  [**2092-7-8**]             Sex:   M\\n\\nService: MEDICINE\\n\\nAllergies:\\nPatient recorded as having No Known Allergies to Drugs\\n\\nAttending:[**First Name3 (LF) 338**]\\nChief Complaint:\\nRespiratory failure\\n\\nMajor Surgical or Invasive Procedure:\\nChest Tube Placement\\nCentral Line Placement\\nPICC Line placement\\n\\n\\nHistory of Present Illness:\\n40 yo M with IPF, s/p double lung tx [**2128**], h/o recurrent\\npneumonia, chronic rejection and obliterative bronchiolitis,\\npolymiositis presents with acute on chronic respiratory failure.\\nWas sent from [**Hospital3 672**] Rehab for hypoxia (O2 sat 78%) and\\nlethargy, also some report of migratory chest pain/pleuritic CP.\\nVent settings prior to event AC 400/15/0.40/5, started to be\\nambu bagged with improvement to 96%, then placed on FiO2 100%\\nbut decreased again to 80%. At baseline can write and interact\\nwith staff but was not doing so today. Was satting 78% on vent\\nthere with difficulty suctioning.\\n.\\nIn the ED, VS T 101.4 HR 98, BP 132/64, O2 sat 88%, suctioned\\nhere without improvement. ABG 7.05/190/111-->6.98/204/119.\\nPatient was bronched by pulm in ED, airways were found to be\\npatent. Considered replacing trach vs intubation and removal of\\ntrach, but ultimately, was started on heliox and thought to be\\ndoing better. Also given Zosyn and flagyl for likely aspiration\\nPNA on CXR. CT performed in ED given report of pleuritic CP.\\nPatient was also transiently hypotensive from 110s to 90s,\\nreceived fluid bolus total 4L and started on stress dose\\nsteroids.\\n\\n\\nPast Medical History:\\n- IPF dx in [**2122**], s/p b/l lung transplant in [**2128**] c/b chronic\\nresp failure vent dependent since [**2-7**] s/p tracheostomy/PEG\\n- h/o trach dislodgement s/p revision with dilation and\\nplacement of [**Last Name (un) 295**] #8 trach\\n- PFTs [**1-6**]: FEV1 0.38, FVC 0.81, FEV1/FVC 47%\\n- h/o multiple PNAs, aspiration - h/o pseudomonas, algaliceus\\nspecies, aspergillus\\n- h/o Polymyositis, anti-[**Doctor First Name **] negative, [**Doctor First Name **] +, ?cause for IPF\\n- h/o esophageal dysmotility, GERd\\n- Hypertension\\n- h/o A.fib\\n- Hyperlipidemia\\n- DM, h/o DKA in past\\n- h/o sacral decubiti\\n- h/o ESBL Proteus UTI\\n- h/o VRE/MRSA\\n- CRI (?baseline Cr)\\n- ?h/o seizure disorder (documented in one note, not in [**Hospital1 2025**]/[**Hospital1 112**]\\nnotes)\\n\\n\\nSocial History:\\nLives at [**Hospital 671**] Rehab, wife is supportive. Has two sons. [**Name (NI) **]\\ndrinking, smoking, drug use.\\n\\nFamily History:\\nNC\\n\\nPhysical Exam:\\nVS: T 97.0 BP 117/71 HR 93 Vent: AC 280/20/0.4/8 O2 sat 82->100%\\n\\nGEN: intubated, NAD\\nHEENT: Op moist, PERRL, EOMI, aniceric\\nLUNGS: diminished air movement, no wheezing/rales\\nCVS: nl S1 S2, tachy, regular, no m/r/g appreciated\\nABD: soft, NT/ND, BS+, no HSM appreciated\\nEXT: warm, wasted, no edema, 2+ dp pulses\\nNEURO: opening eyes, following commands, normal muscle tone\\n\\n\\nPertinent Results:\\n[**2133-2-16**] 08:23AM BLOOD WBC-21.7* RBC-3.08* Hgb-8.7* Hct-30.0*\\nMCV-97 MCH-28.3 MCHC-29.1* RDW-14.9 Plt Ct-340\\n[**2133-2-18**] 07:43AM BLOOD WBC-14.3* RBC-2.68* Hgb-7.7* Hct-25.4*\\nMCV-95 MCH-28.6 MCHC-30.2* RDW-14.9 Plt Ct-273\\n[**2133-2-19**] 04:23AM BLOOD WBC-7.9 RBC-2.33* Hgb-6.8* Hct-21.6*\\nMCV-93 MCH-29.0 MCHC-31.2 RDW-14.8 Plt Ct-176\\n[**2133-2-24**] 03:50AM BLOOD WBC-10.3 RBC-3.16* Hgb-8.9* Hct-28.6*\\nMCV-91 MCH-28.1 MCHC-31.0 RDW-15.5 Plt Ct-240\\n[**2133-2-16**] 08:23AM BLOOD Neuts-77* Bands-3 Lymphs-7* Monos-8 Eos-2\\nBaso-1 Atyps-0 Metas-2* Myelos-0\\n[**2133-2-22**] 03:50AM BLOOD Neuts-91.2* Lymphs-3.8* Monos-4.3 Eos-0.5\\nBaso-0.2\\n[**2133-2-16**] 08:23AM BLOOD Hypochr-2+ Anisocy-OCCASIONAL\\nPoiklo-OCCASIONAL Macrocy-OCCASIONAL Microcy-NORMAL\\nPolychr-NORMAL Ovalocy-OCCASIONAL\\n[**2133-2-16**] 08:23AM BLOOD PT-11.1 PTT-24.8 INR(PT)-0.9\\n[**2133-2-19**] 04:23AM BLOOD PT-11.1 PTT-38.4* INR(PT)-0.9\\n[**2133-2-22**] 06:40AM BLOOD PT-11.4 PTT-35.4* INR(PT)-1.0\\n[**2133-2-24**] 03:50AM BLOOD Plt Ct-240\\n[**2133-2-18**] 07:43AM BLOOD Ret Aut-1.1*\\n[**2133-2-19**] 04:23AM BLOOD Fibrino-444*\\n[**2133-2-16**] 08:23AM BLOOD Glucose-181* UreaN-33* Creat-1.2 Na-142\\nK-5.8* Cl-97 HCO3-41* AnGap-10\\n[**2133-2-20**] 02:48AM BLOOD Glucose-124* UreaN-50* Creat-1.6* Na-139\\nK-4.9 Cl-100 HCO3-35* AnGap-9\\n[**2133-2-23**] 03:52AM BLOOD Glucose-93 UreaN-41* Creat-1.4* Na-142\\nK-6.3* Cl-108 HCO3-30 AnGap-10\\n[**2133-2-24**] 03:50AM BLOOD Glucose-91 UreaN-35* Creat-1.3* Na-145\\nK-4.7 Cl-108 HCO3-32 AnGap-10\\n[**2133-2-16**] 08:23AM BLOOD CK(CPK)-62\\n[**2133-2-16**] 04:09PM BLOOD CK(CPK)-26*\\n[**2133-2-19**] 04:23AM BLOOD TotBili-0.2 DirBili-0.1 IndBili-0.1\\n[**2133-2-21**] 03:58AM BLOOD ALT-12 AST-19 LD(LDH)-207 AlkPhos-61\\nAmylase-637* TotBili-0.1\\n[**2133-2-22**] 03:50AM BLOOD Amylase-321*\\n[**2133-2-23**] 09:15AM BLOOD ALT-11 AST-20 LD(LDH)-222 AlkPhos-57\\nAmylase-132* TotBili-0.2\\n[**2133-2-24**] 03:50AM BLOOD ALT-10 AST-19 AlkPhos-56 Amylase-109*\\n[**2133-2-21**] 03:58AM BLOOD Lipase-514*\\n[**2133-2-22**] 03:50AM BLOOD Lipase-87*\\n[**2133-2-24**] 03:50AM BLOOD Lipase-35\\n[**2133-2-16**] 08:23AM BLOOD CK-MB-3 cTropnT-0.02*\\n[**2133-2-16**] 04:09PM BLOOD CK-MB-NotDone cTropnT-<0.01\\n[**2133-2-16**] 08:23AM BLOOD Calcium-8.9 Phos-5.0* Mg-1.7\\n[**2133-2-22**] 03:50AM BLOOD Calcium-8.6 Phos-2.4* Mg-2.1\\n[**2133-2-24**] 03:50AM BLOOD Calcium-8.5 Phos-2.1* Mg-1.8\\n[**2133-2-21**] 03:58AM BLOOD Vanco-55.4*\\n[**2133-2-23**] 09:15AM BLOOD Vanco-28.1*\\n[**2133-2-18**] 04:35AM BLOOD Hapto-222*\\n[**2133-2-17**] 08:30AM BLOOD FK506-8.0\\n[**2133-2-18**] 04:35AM BLOOD FK506-7.1\\n[**2133-2-20**] 02:48AM BLOOD FK506-11.0\\n[**2133-2-23**] 09:30AM BLOOD FK506-6.3\\n[**2133-2-24**] 03:50AM BLOOD FK506-6.5\\n[**2133-2-16**] 08:24AM BLOOD Type-ART Tidal V-350 FiO2-60 pO2-111*\\npCO2-190* pH-7.05* calTCO2-56* Base XS-14 -ASSIST/CON\\nIntubat-NOT INTUBA\\n[**2133-2-16**] 10:07AM BLOOD Type-ART PEEP-5 pO2-119* pCO2-204*\\npH-6.98* calTCO2-52* Base XS-9 -ASSIST/CON Intubat-INTUBATED\\n[**2133-2-16**] 12:13PM BLOOD Type-ART Temp-36.1 Rates-20/ Tidal V-300\\nPEEP-5 FiO2-40 pO2-41* pCO2-93* pH-7.26* calTCO2-44* Base XS-10\\nIntubat-INTUBATED Vent-CONTROLLED\\n[**2133-2-16**] 08:01PM BLOOD Type-ART pO2-62* pCO2-101* pH-7.21*\\ncalTCO2-43* Base XS-8 -ASSIST/CON Intubat-INTUBATED\\n[**2133-2-18**] 07:55AM BLOOD Type-ART pO2-96 pCO2-92* pH-7.25*\\ncalTCO2-42* Base XS-9\\n[**2133-2-18**] 02:19PM BLOOD Type-ART Temp-37.7 Rates-20/26 Tidal\\nV-280 PEEP-8 FiO2-50 pO2-66* pCO2-106* pH-7.16* calTCO2-40* Base\\nXS-4 -ASSIST/CON Intubat-INTUBATED\\n[**2133-2-18**] 03:28PM BLOOD Type-ART pO2-426* pCO2-107* pH-7.19*\\ncalTCO2-43* Base XS-8\\n[**2133-2-18**] 06:58PM BLOOD Type-ART pO2-102 pCO2-80* pH-7.28*\\ncalTCO2-39* Base XS-6\\n[**2133-2-22**] 09:11AM BLOOD Type-ART Temp-37.3 pO2-74* pCO2-71*\\npH-7.26* calTCO2-33* Base XS-1\\n[**2133-2-16**] 08:24AM BLOOD Glucose-189* Lactate-0.6 Na-143 K-5.4*\\nCl-90*\\n[**2133-2-16**] 12:13PM BLOOD Glucose-154* Lactate-0.6\\n[**2133-2-16**] 08:24AM BLOOD freeCa-1.29\\n[**2133-2-19**] 04:23AM BLOOD B-GLUCAN-PND\\n[**2133-2-20**] 02:48AM BLOOD ASPERGILLUS GALACTOMANNAN ANTIGEN-PND\\n.\\nOther: Pleural Fluid\\nWBC 133 RBC [**Numeric Identifier 71271**] Poly 61 Lymph 31 Mono 6 Meso 1 Macro 1\\nLDH 336 TP 2.5 Gluc 108 pH 7.44\\nMycoplasma Pneumonia pending\\n.\\nCTA CHEST W&W/O C&RECONS, NON-CORONARY  [**2133-2-16**] 10:34 AM\\n.\\nCTA CHEST WITHOUT AND WITH IV CONTRAST: The pulmonary arteries\\nare patent without evidence of filling defects to suggest\\npulmonary embolism. The heart, pericardium, and great vessels\\nare within normal limits. Small mediastinal lymph nodes do not\\nmeet CT criteria for pathologic enlargement. There are diffuse\\nhazy opacities and right lower lobe consolidation consistent\\nwith pneumonia. Bronchiectasis is noted with a lower lobe\\npredominance and most prominently involving the right lower\\nlobe. There is a 6 mm right upper lobe pulmonary nodule.\\nModerate right and small left pleural effusions are identified.\\nBONE WINDOWS: There are no suspicious lytic or sclerotic osseous\\nlesions. Patient is status post median sternotomy.\\nIMPRESSION:\\n1. No PE.\\n2. Diffuse pulmonary opacities and right lower lobe\\nconsolidation consistent with multifocal pneumonia.\\n3. Bronchiectasis, most prominently involving the right lower\\nlobe.\\n4. 6 mm right upper lobe pulmonary nodule. Comparison with prior\\nexaminations is recommended. If not available followup exam in\\nthree to six month is recommended.\\n.\\nCHEST (PORTABLE AP)  [**2133-2-16**] 8:19 AM\\nSINGLE PORTABLE VIEW OF THE CHEST: Tracheostomy tube seen with\\ntip at the level of the clavicles. Sternotomy wire seen\\noverlying the chest. Cardiac and mediastinal contours appear\\nwithin normal limits. There is increased opacity in the right\\nlower lobe. Small right upper lobe nodule also noted. Moderate\\nright sided and small left- sided pleural effusions also\\nidentified. Gastrostomy tube seen overlying the stomach.\\nIMPRESSION:\\n1. Increased opacity in the right lower lobe consistent with\\npneumonia. Moderate right and small left pleural effusions.\\n2. Small right upper lobe nodule. Followup imaging recommended\\nto document stability.\\n.\\nECG\\nProbable ectopic atrial rhythm\\nDiffuse ST-T wave changes - could be in part early\\nrepolarization pattern/\\nnormal variant but consider also pericarditis\\nNo previous tracing available for comparison\\n.\\nCTA CHEST W&W/O C&RECONS, NON-CORONARY  [**2133-2-18**] 4:01 PM\\nCT OF THE CHEST WITH AND WITHOUT IV CONTRAST. Study is limited\\nby streak artifact from patient's arm. There is no evidence of\\ncentral pulmonary embolism. No definite pulmonary emboli\\nidentified, although evaluation of the more distal vessels is\\nseverely limited.\\nThere has been interval increase in visualized bronchiectasis\\nwithin the upper segment of the right lower lobe, compared to\\nstudy from two days prior. Extensive bronchiectasis again noted\\nwithin the lower segment of the right lower lobe.\\nThere has been interval increase in the size of the right\\npleural effusion. Again seen are diffuse hazy opacities, as well\\nas focal consolidations within the lungs consistent with\\ninfection.\\nPulmonary nodules also again noted, not significantly changed in\\nappearance from the study performed two days prior.\\nBONE WINDOWS: No suspicious lytic or blastic lesions are\\nidentified.\\nIMPRESSION:\\n1. No evidence of central pulmonary embolism. Evaluation of more\\ndistal vessels severely limited by streak artifact.\\n2. Interval increase in visualized bronchiectasis at the upper\\nsegments of the right lower lobe. While this appearance might\\npartially be secondary to differences in respiratory phase,\\nthese findings raise concern for worsening infection. Extensive\\nbronchiectasis again noted in the lower segments of the right\\nlower lobe.\\n3. Worsened interval increase in right pleural effusion, focal\\nconsolidations again seen within both lungs consistent with\\ninfection.\\n4. Again seen are pulmonary nodules not significantly changed in\\nappearance from study performed two days prior.\\nFindings were discussed with Dr. [**First Name4 (NamePattern1) **] [**Last Name (NamePattern1) 1852**] immediately\\nfollowing completion of the study.\\n.\\n[**Numeric Identifier **] PICC W/O PORT  [**2133-2-20**] 7:47 AM\\nPROCEDURE AND FINDINGS: As no suitable superficial veins were\\nvisible, ultrasound was used to localize a suitable vein. The\\nright brachial vein was patent and compressible. The right upper\\nextremity was prepped and draped in sterile fashion.\\nApproximately 5 cc 1% lidocaine was used for local anesthesia.\\nUnder direct ultrasonographic guidance, a 21-gauge needle was\\nadvanced into the right brachial vein and a 0.018 inch guidewire\\nwas advanced into the SVC under fluoroscopic guidance. Hard copy\\nultrasound images were obtained before and after venous access\\ndocumenting vessel patency. The needle was exchanged for a 5\\nFrench micropuncture sheath. Next it was determined that a\\nlength of 34 cm would be suitable. The 5 French double- lumen\\nPICC was trimmed to length and advanced over the wire into the\\nSVC under fluoroscopic guidance. The wire and peel-away sheath\\nwere removed. A final fluoroscopic spot image of the chest\\ndemonstrates the PICC line tip in the SVC. The line was flushed,\\nheplocked and statlocked. The patient tolerated the procedure\\nwell and there were no complications. IMPRESSION: Successful\\nplacement of right brachial PICC with the tip in the SVC. The\\nline is ready for views.\\n.\\n\\nCT ABDOMEN W/O CONTRAST  [**2133-2-21**] 2:29 PM\\nCT CHEST W/O CONTRAST; CT ABDOMEN W/O CONTRAST\\nCT OF THE CHEST WITH IV CONTRAST: The patient has a tracheostomy\\ntube, not well evaluated here. A right subclavian central venous\\ncatheter terminates in the superior vena cava. There is a small\\npericardial effusion. Contrast is visualized in a somewhat\\ndilated distal esophagus, although there is no wall thickening.\\nThere is a small 11-mm right hilar lymph node that is unchanged,\\nor perhaps a vascular structure such as a pulmonary venous\\nbranch.\\nThere is a 6-mm pulmonary nodule in the right upper lobe that is\\nunchanged. Continued followup as suggested previously is\\nrecommended. There has been interval improvement in patchy\\nconsolidation in the right lower lobe. Bronchiectasis is again\\nnoted in the right middle lobe and lingula.\\nA right-sided chest tube is present. There is a tiny\\npneumothorax tracking anteriorly.\\nSeveral lungs cysts are unchanged. Although less severe, there\\nare similar changes of bronchovascular thickening, patchy\\nconsolidation and bronchiectasis in the left lower lobe that is\\nlittle changed since the prior study. There is a similar small\\nleft pleural effusion, and a tiny right residual pleural\\neffusion.\\nCT OF THE ABDOMEN WITHOUT INTRAVENOUS CONTRAST: Within the\\nlimitations of a non-contrast study, the liver, gallbladder,\\npancreas, spleen are unremarkable.\\nThe left adrenal gland is unremarkable. The right adrenal gland\\nis poorly visualized.\\nThere is persistent contrast opacification of the renal cortices\\nbilaterally, presumably related to recent contrast bolus. This\\ncould be reflective of renal insufficiency. There is focal soft\\ntissue stranding about the right pararenal fascia. A gastrostomy\\ntube is positioned within the stomach. The proximal small bowel\\nis decompressed. Distally, the bowel is partly opacified and\\nappears normal.\\nThere is fluid throughout the colon, but no wall thickening.\\nThere is no evidence of lymphadenopathy or free air. There is a\\nsmall amount of ascites.\\nCT OF THE PELVIS WITHOUT IV CONTRAST: There is a Foley catheter\\nwithin the collapsed bladder. A few sigmoid diverticuli are\\npresent. The rectum is unremarkable. There is a small amount of\\nascites. The seminal vesicles are within normal limits. There is\\nno lymphadenopathy.\\nBONE WINDOWS: There are no suspicious lytic or blastic lesions.\\nIMPRESSION:\\n1. Persistent bibasilar predominantly peribronchial opacities\\nwith residual, but improved, consolidations.\\n2. Status post placement of right chest tube into right\\neffusion, which is considerably smaller. There is a miniscule\\npneumothorax, but this appearance is not surprising in the\\nsetting of recent chest tube placement\\n3. Fluid within the colon, but no wall thickening.\\n.\\nCHEST (PORTABLE AP)  [**2133-2-23**] 3:20 PM\\nPortable AP view of the chest dated [**2133-2-23**] is compared to the\\nprior from [**2133-2-20**]. Small bilateral pleural effusions are\\nstable. Right chest tube is again seen with its tip terminating\\nin the medial aspect of the right upper lobe. The patient is\\nstatus post lung transplant and bilateral median sutures are\\nagain noted. Tracheostomy tube is in place, with the tip\\napproximately 5 cm above the carina, unchanged. The heart size\\nis stable. The lungs are unchanged showing patchy bilateral\\nlower lung zone airspace opacities, right greater than left.\\nIMPRESSION: Stable appearance of the chest including stable\\nsmall bilateral pleural effusions and bilateral lower lobe\\npatchy opacities.\\n.\\nMicrobiology\\n[**2133-2-16**] 8:58 am BLOOD CULTURE      #2 LH.\\n\\n                            **FINAL REPORT [**2133-2-22**]**\\n\\n   AEROBIC BOTTLE (Final [**2133-2-22**]):    NO GROWTH.\\n\\n   ANAEROBIC BOTTLE (Final [**2133-2-22**]):    NO GROWTH.\\n[**2133-2-16**] 8:23 am BLOOD CULTURE\\n\\n                            **FINAL REPORT [**2133-2-22**]**\\n\\n   AEROBIC BOTTLE (Final [**2133-2-22**]):    NO GROWTH.\\n\\n   ANAEROBIC BOTTLE (Final [**2133-2-19**]):\\n      REPORTED BY PHONE TO [**Last Name (LF) **],[**First Name3 (LF) **] @ 12:30 [**2133-2-17**].\\n      STAPHYLOCOCCUS, COAGULASE NEGATIVE.    ISOLATED FROM ONE\\nSET ONLY.\\n         SENSITIVITIES PERFORMED ON REQUEST..\\n.\\n[**2133-2-16**] 8:23 am BLOOD CULTURE\\n\\n                            **FINAL REPORT [**2133-2-22**]**\\n\\n   AEROBIC BOTTLE (Final [**2133-2-22**]):    NO GROWTH.\\n\\n   ANAEROBIC BOTTLE (Final [**2133-2-19**]):\\n      REPORTED BY PHONE TO [**Last Name (LF) **],[**First Name3 (LF) **] @ 12:30 [**2133-2-17**].\\n      STAPHYLOCOCCUS, COAGULASE NEGATIVE.    ISOLATED FROM ONE\\nSET ONLY.\\n         SENSITIVITIES PERFORMED ON REQUEST..\\n\\n.\\n[**2133-2-16**] 12:52 pm Influenza A/B by DFA\\n      Source: Nasopharyngeal aspirate.\\n\\n                            **FINAL REPORT [**2133-2-16**]**\\n\\n   DIRECT INFLUENZA A ANTIGEN TEST (Final [**2133-2-16**]):\\n      Negative for Influenza A viral antigen.\\n\\n   DIRECT INFLUENZA B ANTIGEN TEST (Final [**2133-2-16**]):\\n      NEGATIVE FOR INFLUENZA B VIRAL ANTIGEN.\\n.\\n[**2133-2-16**] 4:09 pm URINE\\n\\n                            **FINAL REPORT [**2133-2-18**]**\\n\\n   URINE CULTURE (Final [**2133-2-18**]):    NO GROWTH.\\n.\\n[**2133-2-18**] 11:46 am BRONCHOALVEOLAR LAVAGE      R/O CMV.\\n\\n   GRAM STAIN (Final [**2133-2-18**]):\\n      2+   (1-5 per 1000X FIELD):   POLYMORPHONUCLEAR\\nLEUKOCYTES.\\n      NO MICROORGANISMS SEEN.\\n\\n   RESPIRATORY CULTURE (Final [**2133-2-21**]):\\n      OROPHARYNGEAL FLORA ABSENT.\\n      PROTEUS MIRABILIS.    ~6OOO/ML.  PRESUMPTIVE\\nIDENTIFICATION.\\n         Trimethoprim/Sulfa sensitivity testing available on\\nrequest.\\n\\n                              SENSITIVITIES: MIC expressed in\\nMCG/ML\\n\\n_________________________________________________________\\n                             PROTEUS MIRABILIS\\n                             |\\nAMPICILLIN------------  =>32 R\\nAMPICILLIN/SULBACTAM--  =>32 R\\nCEFAZOLIN-------------    16 I\\nCEFEPIME--------------   <=1 S\\nCEFTAZIDIME-----------   <=1 S\\nCEFTRIAXONE-----------   <=1 S\\nCEFUROXIME------------     8 S\\nCIPROFLOXACIN---------   =>4 R\\nGENTAMICIN------------     8 I\\nLEVOFLOXACIN----------   =>8 R\\nMEROPENEM-------------<=0.25 S\\nPIPERACILLIN----------    32 I\\nPIPERACILLIN/TAZO-----   <=4 S\\nTOBRAMYCIN------------     2 S\\n\\n   IMMUNOFLUORESCENT TEST FOR PNEUMOCYSTIS CARINII (Final\\n[**2133-2-19**]):\\n      PNEUMOCYSTIS CARINII NOT SEEN.\\n\\n   FUNGAL CULTURE (Preliminary):    NO FUNGUS ISOLATED.\\n\\n   ACID FAST SMEAR (Final [**2133-2-19**]):\\n      NO ACID FAST BACILLI SEEN ON CONCENTRATED SMEAR.\\n\\n   ACID FAST CULTURE (Pending):\\n\\n   LEGIONELLA CULTURE (Preliminary):    NO LEGIONELLA ISOLATED.\\n\\n   NOCARDIA CULTURE (Preliminary):    NO NOCARDIA ISOLATED.\\n\\n   VIRAL CULTURE (Preliminary):    No Virus isolated so far.\\n\\n   Rapid Respiratory Viral Antigen Test (Final [**2133-2-21**]):\\n      Respiratory viral antigens not detected.\\n      CULTURE CONFIRMATION PENDING.\\n      SPECIMEN SCREENED FOR: ADENO,PARAINFLUENZA 1,2,3 INFLUENZA\\nA,B AND\\n      RSV.\\n      This kit is not FDA approved for direct detection of\\nparainfluenza\\n      virus in specimens; interpret parainfluenza results with\\ncaution.\\n\\n   VIRAL CULTURE: R/O CYTOMEGALOVIRUS (Final [**2133-2-23**]):\\n      TEST CANCELLED, PATIENT CREDITED.\\n      DUPLICATE SPECIMEN.\\n      REFER TO VIRAL CULTURE FOR RESULTS.\\n.\\n[**2133-2-19**] 12:52 pm STOOL     CONSISTENCY: SOFT      Source:\\nStool.\\n\\n                            **FINAL REPORT [**2133-2-21**]**\\n\\n   FECAL CULTURE (Final [**2133-2-21**]):    NO SALMONELLA OR SHIGELLA\\nFOUND.\\n\\n   CAMPYLOBACTER CULTURE (Final [**2133-2-21**]):    NO CAMPYLOBACTER\\nFOUND.\\n\\n   CLOSTRIDIUM DIFFICILE TOXIN ASSAY (Final [**2133-2-20**]):\\n      FECES NEGATIVE FOR C. DIFFICILE TOXIN BY EIA.\\n      Reference Range:  Negative.\\n.\\n[**2133-2-19**] 4:25 pm PLEURAL FLUID\\n\\n   GRAM STAIN (Final [**2133-2-19**]):\\n      1+    (<1 per 1000X FIELD):   POLYMORPHONUCLEAR\\nLEUKOCYTES.\\n      NO MICROORGANISMS SEEN.\\n\\n   FLUID CULTURE (Final [**2133-2-22**]):    NO GROWTH.\\n\\n   ANAEROBIC CULTURE (Preliminary):    NO GROWTH.\\n\\n   FUNGAL CULTURE (Preliminary):    NO FUNGUS ISOLATED.\\n.\\nCMV IgG ANTIBODY (Pending):\\nCMV IgM ANTIBODY (Pending):\\n.\\n[**2133-2-21**] 11:35 am CATHETER TIP-IV      Source: R Femerol.\\n\\n                            **FINAL REPORT [**2133-2-23**]**\\n\\n   WOUND CULTURE (Final [**2133-2-23**]):    No significant growth.\\n.\\n01/20-21/07 11:42 am BLOOD CULTURE      LINE/SPEC: A-LINE.\\n\\n   AEROBIC BOTTLE (Pending):\\n\\n   ANAEROBIC BOTTLE (Pending):\\n\\n\\nBrief Hospital Course:\\nMr. [**Known lastname **] is a 40 yo M with chronic respiratory failure [**3-6**] IPF\\ns/p b/l lung transplant c/b chronic rejection, recurrent\\npneumonias presenting with acute on chronic respiratory failure\\nsecondary to multifocal pneumonia with underlying poor pulmonary\\nreserve. His hospital course is summarized below by problem.\\n.\\n# RESP FAILURE. Long standing lung disease, IPF dx in 96 s/p b/l\\nlung tx in [**2128**] c/b chronic rejection, requires chronic\\nventilatory support. Acute decompensation likely multifactorial\\nmainly secondary to pneumonia and mucous plugging. Aspiration is\\nalso likely. Patient was initially very difficult to ventilate\\nwith ABG showing 6.98/204/119 in the ED at which time he was\\nunresponsive. Upon arrival to the ICU he was placed on AC 280 x\\n22, FiO2 .70, Peep of 8. His arterial blood gases continued to\\nimprove over the course of his hospitalization. Our goals were\\nto keep his O2 sats >88%, PCO2 ~ 100. With these parameters he\\nwas mentating and following commands. His ventilation continued\\nto improve gradually with PCO2 ranging 70-80s.\\n.\\nPatient was iniated on broad coverage given h/o multiple drug\\nresitant organisms in the past. He as treated with Meropenem and\\nVancomycin. Vancomycin was discontinued on [**2-24**] per ID\\nrecommendations. He continues on Meropenem for a 14 week course\\n(started on [**2133-2-16**]). Influenza was negative. Patient had two\\nbronchoscopies performed during this admission, BAL from [**2-18**]\\ngrew Proteus Mirabilis resistant to quinolones. A Chest Tube was\\nplaced on [**2-19**] due to persistent pleural effusions and concern\\nfor loculation. It drained serosanguinous fluid, making criteria\\nfor exudate with LDH 336. It continued to drain fluid <200 cc\\nper day mainly serous. The chest tube was pulled on ... Patient\\nwas also continued on Prednisone 20 mg daily (trasiently on\\nstress dose steroids on admission) and his other\\nimmunosuppressant medications (see below). ID evaluated the\\npatient and recommened contiuing the same antibiotic coverage\\nand discontinuing vanco if he remained afebrile. C.diff was\\nchecked given loose stool which was negative. CMV viral load was\\npending at the time of discharge. Prior to discharge he was also\\ndiuresed with IV lasix to improve minimize drainage from his\\nchest tube and since he was markedly fuid overloaded since\\nadmission (positive 8.5 L since admission).\\n.\\nB-Glucan was positive; galactomannan was negative.  It is\\nunknown whether beta-glucan was due to fungal infection vs blood\\ntransfusion, antibiotic, or other.  Antifungal agents were not\\ngiven; however, ID consult recommended that he continue to be\\nmonitored with repeat beta-glucan assays drawn at Radius.\\n.\\n# Leukocytosis and Fever - SIRS, transiently hypotensive on\\nadmission which rapidly resolved. Likely secondary to pneumonia.\\nBlood cultures in the ED grew 1/4 bottles coag negative staph.\\nUrine cultures showed no growth. Patient remained hypertensive\\nthroughout the remained of his admission and restarted on a beta\\nblocker at high dose. He remained afebrile.\\n.\\n# Cardiovascular. Patient reportedly had pleuritic chest pain\\nthe day of admission prior to his acute respiratory decline. EKG\\nshowed early repolarization no acute ST-T changes. There was no\\nold EKG for comparison. Two sets cardiac enzymes are negative.\\nTelemetry subsequently showing frequent PVCs and few episodes of\\nNSVT. His beta blockade was increased to Metoprolol 100 mg q 8\\nhrs. His electrolytes were agressively replete to keep K >4 Mg\\n>2. He was continued on a statin. After this his telemetry was\\nnormal without further events.\\n.\\n# Pancreatitis. Patient complained of abdominal pain\\nintermittently. His abdomen was distended however he was making\\nstool and he was non tender on exam. CT of the abdomen showed a\\nnormal pancrease, gallbladder and spleen, fluid throughout the\\ncolon was noted but no bowel wall thickening. His PEG tube was\\nin good position. Amylase and lipase were elevated on [**2-21**] to\\n636 and 514 respectively. His tube feeds were stopped. There\\nenzymes trended down subsequently (see results). C.diff was\\nnegative. Tube feeds were restarted slowly and his amylase and\\nlipase started to increase.  GI was consulted and they\\nrecommended repositioning his feeding tube more distally.\\nPatient's feeding tube was successfully repositioned by\\ninterventional radiology on day of discharge.\\n.\\n# Anemia. Unclear etiology, initially 30-->21 today s/p two\\nunits pRBCs on [**2-19**], Hct 29 today and stable. Stool trace guaiac\\npositive. No evidence of hemolysis.\\n- active type and screen\\n- transfuse if <21\\n.\\n# s/p Lung Tx: Continue Prograf/Cellcept/Prednisone\\n- follow Tacrolimus level 6.3 [**2-23**]--check level in AM\\n- check level in AM\\n.\\n# DM - Humalog SS\\n.\\n# Polymyositis - stress dose steroids\\n.\\n# HTN. Borderline hypotensive on admission, now BP on high side\\n\\n- titrated up BP, consider adding other [**Doctor Last Name 360**] if not adequately\\ncontrolled\\n.\\n# H/o A.fib not on anticoagulation.\\n- monitor on tele\\n.\\n# Hyperlipidemia - continue Lipitor\\n.\\n# FEN - monitor K, TFs on hold, maintenance fluids.\\n.\\n# Dispo - stable, likely back to Radius this week, possibly\\nwednesday, discuss with case management.\\n.\\n# full code per wife\\n.\\n# Comm: [**Hospital3 672**] and Rehab Center [**Telephone/Fax (1) 71272**]\\nNext of [**Doctor First Name **]: [**First Name4 (NamePattern1) **] [**Known lastname **] [**Telephone/Fax (1) 71273**]\\n\\n\\nMedications on Admission:\\n- seroquel 50 mg qAM, 100 mg qHS, 25 mg prn\\n- Motrin 600 mg tid (recently d/ced after renal consult for ARF)\\n- Lidoderm daily\\n- Maalox\\n- Humalog SS\\n- Feosol 300 mg [**Hospital1 **]\\n- Klonopin 0.25 mg QHS\\n- Neutra phos 2 pkts [**Hospital1 **]\\n- nexium 40 mg daily\\n- Lovenox 40 mg sc daily\\n- combivent 4 puffs qid prn\\n- Dulcolax 10 mg daily\\n- tylenol elixir 650 mg q 4 hrs prn\\n- oxycodone 5 mg q6 hrs\\n- senna liquid 10 ml qHS\\n- Bactrim susp 20 ml daily\\n- Prograf 9 mg [**Hospital1 **]\\n- Cellcept [**Pager number **] mg [**Hospital1 **]\\n- prednisone 10 mg daily\\n- Lipitor 10 mg daily\\n- Celexa 40 mg daily\\n- Aranesp 40 mcg weekly\\n- lopressor 50 mg q8hrs\\n\\n\\nDischarge Medications:\\n1. Heparin (Porcine) 5,000 unit/mL Solution [**Hospital1 **]: One (1)\\nInjection TID (3 times a day).\\n2. Lansoprazole 30 mg Tablet,Rapid Dissolve, DR [**Last Name (STitle) **]: One (1)\\nTablet,Rapid Dissolve, DR [**Last Name (STitle) **] DAILY (Daily).\\n3. Ipratropium Bromide 17 mcg/Actuation Aerosol [**Last Name (STitle) **]: Two (2)\\nPuff Inhalation QID (4 times a day).\\n4. Trimethoprim-Sulfamethoxazole 40-200 mg/5 mL Suspension [**Last Name (STitle) **]:\\nTwenty (20) ML PO DAILY (Daily).\\n5. Mycophenolate Mofetil 500 mg Tablet [**Last Name (STitle) **]: Two (2) Tablet PO\\nBID (2 times a day).\\n6. Atorvastatin 10 mg Tablet [**Last Name (STitle) **]: One (1) Tablet PO DAILY\\n(Daily).\\n7. Citalopram 20 mg Tablet [**Last Name (STitle) **]: Two (2) Tablet PO DAILY (Daily).\\n\\n8. Albuterol 90 mcg/Actuation Aerosol [**Last Name (STitle) **]: 2-4 Puffs Inhalation\\nQ6H (every 6 hours) as needed.\\n9. Bisacodyl 5 mg Tablet, Delayed Release (E.C.) [**Last Name (STitle) **]: Two (2)\\nTablet, Delayed Release (E.C.) PO DAILY (Daily) as needed.\\n10. Clonazepam 0.5 mg Tablet [**Last Name (STitle) **]: 0.5 Tablet PO QHS (once a day\\n(at bedtime)) as needed.\\n11. Quetiapine 25 mg Tablet [**Last Name (STitle) **]: One (1) Tablet PO BID (2 times\\na day) as needed.\\n12. Prednisone 20 mg Tablet [**Last Name (STitle) **]: One (1) Tablet PO DAILY\\n(Daily).\\n13. Docusate Sodium 50 mg/5 mL Liquid [**Last Name (STitle) **]: One Hundred (100) mg\\nPO BID (2 times a day).\\n14. Senna 8.6 mg Tablet [**Last Name (STitle) **]: Two (2) Tablet PO BID (2 times a\\nday).\\n15. Zolpidem 5 mg Tablet [**Last Name (STitle) **]: One (1) Tablet PO HS (at bedtime)\\nas needed.\\n16. Metoprolol Tartrate 50 mg Tablet [**Last Name (STitle) **]: Two (2) Tablet PO TID\\n(3 times a day).\\n17. Acetaminophen 325 mg Tablet [**Last Name (STitle) **]: 1-2 Tablets PO Q4-6H (every\\n4 to 6 hours) as needed.\\n18. Hydrochlorothiazide 25 mg Tablet [**Last Name (STitle) **]: One (1) Tablet PO\\nDAILY (Daily).\\n19. Sodium Chloride 0.9%  Flush 3 ml IV DAILY:PRN\\nPeripheral IV - Inspect site every shift\\n20. Meropenem 500 mg Recon Soln [**Last Name (STitle) **]: 500 mg Recon Solns\\nIntravenous Q6H (every 6 hours) for 4 days.\\n21. Heparin Flush CVL  (100 units/ml) 1 ml IV DAILY:PRN\\n10ml NS followed by 1ml of 100 units/ml heparin (100 units\\nheparin) each lumen QD and PRN.  Inspect site every shift\\n22. Dolasetron Mesylate 25 mg IV Q8H:PRN nausea/vomiting\\n23. Morphine Sulfate 2-6 mg IV Q3-4H:PRN abdominal pain\\n24. Heparin Flush PICC (100 units/ml) 2 ml IV DAILY:PRN\\n10 ml NS followed by 2 ml of 100 Units/ml heparin (200 units\\nheparin) each lumen Daily and PRN.  Inspect site every shift.\\n25. Insulin Lispro (Human) 100 unit/mL Solution [**Last Name (STitle) **]: per sliding\\nscale  Subcutaneous ASDIR (AS DIRECTED).\\n26. Tacrolimus 5 mg Capsule [**Last Name (STitle) **]: One (1) Capsule PO BID (2 times\\na day): In total should receive tacrolmius 9 mg [**Hospital1 **].\\n27. Tacrolimus 1 mg Capsule [**Hospital1 **]: Four (4) Capsule PO twice a\\nday: In total should receive Tarolimus 9 mg [**Hospital1 **] .\\n\\n\\nDischarge Disposition:\\nExtended Care\\n\\nFacility:\\n[**Hospital3 672**] Hospital\\n\\nDischarge Diagnosis:\\nPrimary diagnoses\\n- Pneumonia - complicated by loculated effusions requiring\\nplacement if chest tube\\n- pancreatitis\\nSecondary diagnoses\\n- idiopathic pulmonary fibrosis\\n- s/p lung transplant\\n- anemia\\n- DM\\n- polymyositis\\n- HTN\\n- hyperlipidemia\\n\\n\\n\\nDischarge Condition:\\nstable\\n\\n\\nDischarge Instructions:\\nYou were admitted with a pneumonia which required agreesive\\ntreatment with antibiotics and a chest tube. You will need to be\\non antibiotics for a total of 14 days (you have 4 days left).\\nYour chest tube was removed on [**2133-2-25**] and you have been doing\\nwell since then. Please follow up with your pulmonologist Dr.\\n[**First Name (STitle) 2405**] at Radius. He will need to continue to follow your\\nTacrolimus levels.\\n.\\nYou also developed abdominal pain and pancreatitis, which we\\nbelieve was secondary to your tube feeds. Your labs (amylase,\\nlipase) should continue to be followed by your doctors [**First Name (Titles) **] [**Name5 (PTitle) 71274**].\\n.\\nPlease call your doctor or return to the emergency room if you\\ndevelop fevers, increased shortness of breath, abdominal pain,\\nnuasea/vomiting, or any other symptoms that are concerning to\\nyou.\\n\\nFollowup Instructions:\\nPlease follow-up with your PCP/pulmonologist upon your return to\\nRadius.\\n\\n\\n\\n\""
            ],
            "application/vnd.google.colaboratory.intrinsic+json": {
              "type": "string"
            }
          },
          "metadata": {},
          "execution_count": 31
        }
      ]
    },
    {
      "cell_type": "markdown",
      "source": [
        "The data looks messy and needs a lot of cleaning."
      ],
      "metadata": {
        "id": "Yp9kTwQgqUi2"
      }
    }
  ]
}